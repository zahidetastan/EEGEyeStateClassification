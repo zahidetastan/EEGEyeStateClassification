{
 "cells": [
  {
   "cell_type": "markdown",
   "metadata": {},
   "source": [
    "# EEG Eye State"
   ]
  },
  {
   "cell_type": "code",
   "execution_count": 1,
   "metadata": {},
   "outputs": [
    {
     "name": "stderr",
     "output_type": "stream",
     "text": [
      "Using TensorFlow backend.\n"
     ]
    }
   ],
   "source": [
    "import numpy as np\n",
    "import pandas as pd\n",
    "from matplotlib import pyplot\n",
    "from sklearn.tree import DecisionTreeClassifier\n",
    "import timeit\n",
    "\n",
    "from sklearn.svm import SVC\n",
    "from keras.layers import Dense\n",
    "from keras.models import Sequential\n",
    "from sklearn.naive_bayes import GaussianNB\n",
    "from sklearn.ensemble import BaggingClassifier, AdaBoostClassifier\n",
    "from sklearn.model_selection import KFold, train_test_split\n",
    "from sklearn.metrics import classification_report, confusion_matrix, accuracy_score"
   ]
  },
  {
   "cell_type": "code",
   "execution_count": 2,
   "metadata": {},
   "outputs": [
    {
     "data": {
      "text/html": [
       "<div>\n",
       "<style scoped>\n",
       "    .dataframe tbody tr th:only-of-type {\n",
       "        vertical-align: middle;\n",
       "    }\n",
       "\n",
       "    .dataframe tbody tr th {\n",
       "        vertical-align: top;\n",
       "    }\n",
       "\n",
       "    .dataframe thead th {\n",
       "        text-align: right;\n",
       "    }\n",
       "</style>\n",
       "<table border=\"1\" class=\"dataframe\">\n",
       "  <thead>\n",
       "    <tr style=\"text-align: right;\">\n",
       "      <th></th>\n",
       "      <th>AF3</th>\n",
       "      <th>F7</th>\n",
       "      <th>F3</th>\n",
       "      <th>FC5</th>\n",
       "      <th>T7</th>\n",
       "      <th>P7</th>\n",
       "      <th>O1</th>\n",
       "      <th>O2</th>\n",
       "      <th>P8</th>\n",
       "      <th>T8</th>\n",
       "      <th>FC6</th>\n",
       "      <th>F4</th>\n",
       "      <th>F8</th>\n",
       "      <th>AF4</th>\n",
       "      <th>eyeDetection</th>\n",
       "    </tr>\n",
       "  </thead>\n",
       "  <tbody>\n",
       "    <tr>\n",
       "      <td>0</td>\n",
       "      <td>4329.23</td>\n",
       "      <td>4009.23</td>\n",
       "      <td>4289.23</td>\n",
       "      <td>4148.21</td>\n",
       "      <td>4350.26</td>\n",
       "      <td>4586.15</td>\n",
       "      <td>4096.92</td>\n",
       "      <td>4641.03</td>\n",
       "      <td>4222.05</td>\n",
       "      <td>4238.46</td>\n",
       "      <td>4211.28</td>\n",
       "      <td>4280.51</td>\n",
       "      <td>4635.90</td>\n",
       "      <td>4393.85</td>\n",
       "      <td>0</td>\n",
       "    </tr>\n",
       "    <tr>\n",
       "      <td>1</td>\n",
       "      <td>4324.62</td>\n",
       "      <td>4004.62</td>\n",
       "      <td>4293.85</td>\n",
       "      <td>4148.72</td>\n",
       "      <td>4342.05</td>\n",
       "      <td>4586.67</td>\n",
       "      <td>4097.44</td>\n",
       "      <td>4638.97</td>\n",
       "      <td>4210.77</td>\n",
       "      <td>4226.67</td>\n",
       "      <td>4207.69</td>\n",
       "      <td>4279.49</td>\n",
       "      <td>4632.82</td>\n",
       "      <td>4384.10</td>\n",
       "      <td>0</td>\n",
       "    </tr>\n",
       "    <tr>\n",
       "      <td>2</td>\n",
       "      <td>4327.69</td>\n",
       "      <td>4006.67</td>\n",
       "      <td>4295.38</td>\n",
       "      <td>4156.41</td>\n",
       "      <td>4336.92</td>\n",
       "      <td>4583.59</td>\n",
       "      <td>4096.92</td>\n",
       "      <td>4630.26</td>\n",
       "      <td>4207.69</td>\n",
       "      <td>4222.05</td>\n",
       "      <td>4206.67</td>\n",
       "      <td>4282.05</td>\n",
       "      <td>4628.72</td>\n",
       "      <td>4389.23</td>\n",
       "      <td>0</td>\n",
       "    </tr>\n",
       "    <tr>\n",
       "      <td>3</td>\n",
       "      <td>4328.72</td>\n",
       "      <td>4011.79</td>\n",
       "      <td>4296.41</td>\n",
       "      <td>4155.90</td>\n",
       "      <td>4343.59</td>\n",
       "      <td>4582.56</td>\n",
       "      <td>4097.44</td>\n",
       "      <td>4630.77</td>\n",
       "      <td>4217.44</td>\n",
       "      <td>4235.38</td>\n",
       "      <td>4210.77</td>\n",
       "      <td>4287.69</td>\n",
       "      <td>4632.31</td>\n",
       "      <td>4396.41</td>\n",
       "      <td>0</td>\n",
       "    </tr>\n",
       "    <tr>\n",
       "      <td>4</td>\n",
       "      <td>4326.15</td>\n",
       "      <td>4011.79</td>\n",
       "      <td>4292.31</td>\n",
       "      <td>4151.28</td>\n",
       "      <td>4347.69</td>\n",
       "      <td>4586.67</td>\n",
       "      <td>4095.90</td>\n",
       "      <td>4627.69</td>\n",
       "      <td>4210.77</td>\n",
       "      <td>4244.10</td>\n",
       "      <td>4212.82</td>\n",
       "      <td>4288.21</td>\n",
       "      <td>4632.82</td>\n",
       "      <td>4398.46</td>\n",
       "      <td>0</td>\n",
       "    </tr>\n",
       "  </tbody>\n",
       "</table>\n",
       "</div>"
      ],
      "text/plain": [
       "       AF3       F7       F3      FC5       T7       P7       O1       O2  \\\n",
       "0  4329.23  4009.23  4289.23  4148.21  4350.26  4586.15  4096.92  4641.03   \n",
       "1  4324.62  4004.62  4293.85  4148.72  4342.05  4586.67  4097.44  4638.97   \n",
       "2  4327.69  4006.67  4295.38  4156.41  4336.92  4583.59  4096.92  4630.26   \n",
       "3  4328.72  4011.79  4296.41  4155.90  4343.59  4582.56  4097.44  4630.77   \n",
       "4  4326.15  4011.79  4292.31  4151.28  4347.69  4586.67  4095.90  4627.69   \n",
       "\n",
       "        P8       T8      FC6       F4       F8      AF4  eyeDetection  \n",
       "0  4222.05  4238.46  4211.28  4280.51  4635.90  4393.85             0  \n",
       "1  4210.77  4226.67  4207.69  4279.49  4632.82  4384.10             0  \n",
       "2  4207.69  4222.05  4206.67  4282.05  4628.72  4389.23             0  \n",
       "3  4217.44  4235.38  4210.77  4287.69  4632.31  4396.41             0  \n",
       "4  4210.77  4244.10  4212.82  4288.21  4632.82  4398.46             0  "
      ]
     },
     "execution_count": 2,
     "metadata": {},
     "output_type": "execute_result"
    }
   ],
   "source": [
    "\n",
    "df_raw = pd.read_csv(\"EEG Eye State.csv\")\n",
    "df_raw.head()"
   ]
  },
  {
   "cell_type": "code",
   "execution_count": 3,
   "metadata": {},
   "outputs": [
    {
     "data": {
      "text/plain": [
       "AF3             0\n",
       "F7              0\n",
       "F3              0\n",
       "FC5             0\n",
       "T7              0\n",
       "P7              0\n",
       "O1              0\n",
       "O2              0\n",
       "P8              0\n",
       "T8              0\n",
       "FC6             0\n",
       "F4              0\n",
       "F8              0\n",
       "AF4             0\n",
       "eyeDetection    0\n",
       "dtype: int64"
      ]
     },
     "execution_count": 3,
     "metadata": {},
     "output_type": "execute_result"
    }
   ],
   "source": [
    "# it counts the number of null in rows for each column\n",
    "df_raw.isnull().sum()"
   ]
  },
  {
   "cell_type": "code",
   "execution_count": 4,
   "metadata": {},
   "outputs": [
    {
     "data": {
      "text/plain": [
       "AF3             0\n",
       "F7              0\n",
       "F3              0\n",
       "FC5             0\n",
       "T7              0\n",
       "P7              0\n",
       "O1              0\n",
       "O2              0\n",
       "P8              0\n",
       "T8              0\n",
       "FC6             0\n",
       "F4              0\n",
       "F8              0\n",
       "AF4             0\n",
       "eyeDetection    0\n",
       "dtype: int64"
      ]
     },
     "execution_count": 4,
     "metadata": {},
     "output_type": "execute_result"
    }
   ],
   "source": [
    "# it counts the number of na in rows for each column\n",
    "df_raw.isna().sum()"
   ]
  },
  {
   "cell_type": "markdown",
   "metadata": {},
   "source": [
    "we dont have to handle missing data because there is no missing data. As in the above. "
   ]
  },
  {
   "cell_type": "code",
   "execution_count": 5,
   "metadata": {},
   "outputs": [
    {
     "name": "stdout",
     "output_type": "stream",
     "text": [
      "<class 'pandas.core.frame.DataFrame'>\n",
      "RangeIndex: 14980 entries, 0 to 14979\n",
      "Data columns (total 15 columns):\n",
      "AF3             14980 non-null float64\n",
      "F7              14980 non-null float64\n",
      "F3              14980 non-null float64\n",
      "FC5             14980 non-null float64\n",
      "T7              14980 non-null float64\n",
      "P7              14980 non-null float64\n",
      "O1              14980 non-null float64\n",
      "O2              14980 non-null float64\n",
      "P8              14980 non-null float64\n",
      "T8              14980 non-null float64\n",
      "FC6             14980 non-null float64\n",
      "F4              14980 non-null float64\n",
      "F8              14980 non-null float64\n",
      "AF4             14980 non-null float64\n",
      "eyeDetection    14980 non-null int64\n",
      "dtypes: float64(14), int64(1)\n",
      "memory usage: 1.7 MB\n"
     ]
    }
   ],
   "source": [
    "df_raw.info()"
   ]
  },
  {
   "cell_type": "code",
   "execution_count": 6,
   "metadata": {},
   "outputs": [],
   "source": [
    "#as in the below, we have 15 columns, and 14980 rows. And there is no missing data. "
   ]
  },
  {
   "cell_type": "code",
   "execution_count": 7,
   "metadata": {},
   "outputs": [
    {
     "data": {
      "text/plain": [
       "(14980, 15)"
      ]
     },
     "execution_count": 7,
     "metadata": {},
     "output_type": "execute_result"
    }
   ],
   "source": [
    "df_raw.shape #(rows, columns)"
   ]
  },
  {
   "cell_type": "code",
   "execution_count": 8,
   "metadata": {
    "scrolled": true
   },
   "outputs": [
    {
     "data": {
      "text/html": [
       "<div>\n",
       "<style scoped>\n",
       "    .dataframe tbody tr th:only-of-type {\n",
       "        vertical-align: middle;\n",
       "    }\n",
       "\n",
       "    .dataframe tbody tr th {\n",
       "        vertical-align: top;\n",
       "    }\n",
       "\n",
       "    .dataframe thead th {\n",
       "        text-align: right;\n",
       "    }\n",
       "</style>\n",
       "<table border=\"1\" class=\"dataframe\">\n",
       "  <thead>\n",
       "    <tr style=\"text-align: right;\">\n",
       "      <th></th>\n",
       "      <th>AF3</th>\n",
       "      <th>F7</th>\n",
       "      <th>F3</th>\n",
       "      <th>FC5</th>\n",
       "      <th>T7</th>\n",
       "      <th>P7</th>\n",
       "      <th>O1</th>\n",
       "      <th>O2</th>\n",
       "      <th>P8</th>\n",
       "      <th>T8</th>\n",
       "      <th>FC6</th>\n",
       "      <th>F4</th>\n",
       "      <th>F8</th>\n",
       "      <th>AF4</th>\n",
       "      <th>eyeDetection</th>\n",
       "    </tr>\n",
       "  </thead>\n",
       "  <tbody>\n",
       "    <tr>\n",
       "      <td>count</td>\n",
       "      <td>14980.000000</td>\n",
       "      <td>14980.000000</td>\n",
       "      <td>14980.000000</td>\n",
       "      <td>14980.000000</td>\n",
       "      <td>14980.000000</td>\n",
       "      <td>14980.000000</td>\n",
       "      <td>14980.000000</td>\n",
       "      <td>14980.000000</td>\n",
       "      <td>14980.000000</td>\n",
       "      <td>14980.000000</td>\n",
       "      <td>14980.000000</td>\n",
       "      <td>14980.000000</td>\n",
       "      <td>14980.000000</td>\n",
       "      <td>14980.000000</td>\n",
       "      <td>14980.000000</td>\n",
       "    </tr>\n",
       "    <tr>\n",
       "      <td>mean</td>\n",
       "      <td>4321.917777</td>\n",
       "      <td>4009.767694</td>\n",
       "      <td>4264.022433</td>\n",
       "      <td>4164.946326</td>\n",
       "      <td>4341.741075</td>\n",
       "      <td>4644.022379</td>\n",
       "      <td>4110.400160</td>\n",
       "      <td>4616.056904</td>\n",
       "      <td>4218.826610</td>\n",
       "      <td>4231.316200</td>\n",
       "      <td>4202.456900</td>\n",
       "      <td>4279.232774</td>\n",
       "      <td>4615.205336</td>\n",
       "      <td>4416.435832</td>\n",
       "      <td>0.448798</td>\n",
       "    </tr>\n",
       "    <tr>\n",
       "      <td>std</td>\n",
       "      <td>2492.072174</td>\n",
       "      <td>45.941672</td>\n",
       "      <td>44.428052</td>\n",
       "      <td>5216.404632</td>\n",
       "      <td>34.738821</td>\n",
       "      <td>2924.789537</td>\n",
       "      <td>4600.926543</td>\n",
       "      <td>29.292603</td>\n",
       "      <td>2136.408523</td>\n",
       "      <td>38.050903</td>\n",
       "      <td>37.785981</td>\n",
       "      <td>41.544312</td>\n",
       "      <td>1208.369958</td>\n",
       "      <td>5891.285043</td>\n",
       "      <td>0.497388</td>\n",
       "    </tr>\n",
       "    <tr>\n",
       "      <td>min</td>\n",
       "      <td>1030.770000</td>\n",
       "      <td>2830.770000</td>\n",
       "      <td>1040.000000</td>\n",
       "      <td>2453.330000</td>\n",
       "      <td>2089.740000</td>\n",
       "      <td>2768.210000</td>\n",
       "      <td>2086.150000</td>\n",
       "      <td>4567.180000</td>\n",
       "      <td>1357.950000</td>\n",
       "      <td>1816.410000</td>\n",
       "      <td>3273.330000</td>\n",
       "      <td>2257.950000</td>\n",
       "      <td>86.666700</td>\n",
       "      <td>1366.150000</td>\n",
       "      <td>0.000000</td>\n",
       "    </tr>\n",
       "    <tr>\n",
       "      <td>25%</td>\n",
       "      <td>4280.510000</td>\n",
       "      <td>3990.770000</td>\n",
       "      <td>4250.260000</td>\n",
       "      <td>4108.210000</td>\n",
       "      <td>4331.790000</td>\n",
       "      <td>4611.790000</td>\n",
       "      <td>4057.950000</td>\n",
       "      <td>4604.620000</td>\n",
       "      <td>4190.770000</td>\n",
       "      <td>4220.510000</td>\n",
       "      <td>4190.260000</td>\n",
       "      <td>4267.690000</td>\n",
       "      <td>4590.770000</td>\n",
       "      <td>4342.050000</td>\n",
       "      <td>0.000000</td>\n",
       "    </tr>\n",
       "    <tr>\n",
       "      <td>50%</td>\n",
       "      <td>4294.360000</td>\n",
       "      <td>4005.640000</td>\n",
       "      <td>4262.560000</td>\n",
       "      <td>4120.510000</td>\n",
       "      <td>4338.970000</td>\n",
       "      <td>4617.950000</td>\n",
       "      <td>4070.260000</td>\n",
       "      <td>4613.330000</td>\n",
       "      <td>4199.490000</td>\n",
       "      <td>4229.230000</td>\n",
       "      <td>4200.510000</td>\n",
       "      <td>4276.920000</td>\n",
       "      <td>4603.080000</td>\n",
       "      <td>4354.870000</td>\n",
       "      <td>0.000000</td>\n",
       "    </tr>\n",
       "    <tr>\n",
       "      <td>75%</td>\n",
       "      <td>4311.790000</td>\n",
       "      <td>4023.080000</td>\n",
       "      <td>4270.770000</td>\n",
       "      <td>4132.310000</td>\n",
       "      <td>4347.180000</td>\n",
       "      <td>4626.670000</td>\n",
       "      <td>4083.590000</td>\n",
       "      <td>4624.100000</td>\n",
       "      <td>4209.230000</td>\n",
       "      <td>4239.490000</td>\n",
       "      <td>4211.280000</td>\n",
       "      <td>4287.180000</td>\n",
       "      <td>4617.440000</td>\n",
       "      <td>4372.820000</td>\n",
       "      <td>1.000000</td>\n",
       "    </tr>\n",
       "    <tr>\n",
       "      <td>max</td>\n",
       "      <td>309231.000000</td>\n",
       "      <td>7804.620000</td>\n",
       "      <td>6880.510000</td>\n",
       "      <td>642564.000000</td>\n",
       "      <td>6474.360000</td>\n",
       "      <td>362564.000000</td>\n",
       "      <td>567179.000000</td>\n",
       "      <td>7264.100000</td>\n",
       "      <td>265641.000000</td>\n",
       "      <td>6674.360000</td>\n",
       "      <td>6823.080000</td>\n",
       "      <td>7002.560000</td>\n",
       "      <td>152308.000000</td>\n",
       "      <td>715897.000000</td>\n",
       "      <td>1.000000</td>\n",
       "    </tr>\n",
       "  </tbody>\n",
       "</table>\n",
       "</div>"
      ],
      "text/plain": [
       "                 AF3            F7            F3            FC5            T7  \\\n",
       "count   14980.000000  14980.000000  14980.000000   14980.000000  14980.000000   \n",
       "mean     4321.917777   4009.767694   4264.022433    4164.946326   4341.741075   \n",
       "std      2492.072174     45.941672     44.428052    5216.404632     34.738821   \n",
       "min      1030.770000   2830.770000   1040.000000    2453.330000   2089.740000   \n",
       "25%      4280.510000   3990.770000   4250.260000    4108.210000   4331.790000   \n",
       "50%      4294.360000   4005.640000   4262.560000    4120.510000   4338.970000   \n",
       "75%      4311.790000   4023.080000   4270.770000    4132.310000   4347.180000   \n",
       "max    309231.000000   7804.620000   6880.510000  642564.000000   6474.360000   \n",
       "\n",
       "                  P7             O1            O2             P8  \\\n",
       "count   14980.000000   14980.000000  14980.000000   14980.000000   \n",
       "mean     4644.022379    4110.400160   4616.056904    4218.826610   \n",
       "std      2924.789537    4600.926543     29.292603    2136.408523   \n",
       "min      2768.210000    2086.150000   4567.180000    1357.950000   \n",
       "25%      4611.790000    4057.950000   4604.620000    4190.770000   \n",
       "50%      4617.950000    4070.260000   4613.330000    4199.490000   \n",
       "75%      4626.670000    4083.590000   4624.100000    4209.230000   \n",
       "max    362564.000000  567179.000000   7264.100000  265641.000000   \n",
       "\n",
       "                 T8           FC6            F4             F8            AF4  \\\n",
       "count  14980.000000  14980.000000  14980.000000   14980.000000   14980.000000   \n",
       "mean    4231.316200   4202.456900   4279.232774    4615.205336    4416.435832   \n",
       "std       38.050903     37.785981     41.544312    1208.369958    5891.285043   \n",
       "min     1816.410000   3273.330000   2257.950000      86.666700    1366.150000   \n",
       "25%     4220.510000   4190.260000   4267.690000    4590.770000    4342.050000   \n",
       "50%     4229.230000   4200.510000   4276.920000    4603.080000    4354.870000   \n",
       "75%     4239.490000   4211.280000   4287.180000    4617.440000    4372.820000   \n",
       "max     6674.360000   6823.080000   7002.560000  152308.000000  715897.000000   \n",
       "\n",
       "       eyeDetection  \n",
       "count  14980.000000  \n",
       "mean       0.448798  \n",
       "std        0.497388  \n",
       "min        0.000000  \n",
       "25%        0.000000  \n",
       "50%        0.000000  \n",
       "75%        1.000000  \n",
       "max        1.000000  "
      ]
     },
     "execution_count": 8,
     "metadata": {},
     "output_type": "execute_result"
    }
   ],
   "source": [
    "df_raw.describe()"
   ]
  },
  {
   "cell_type": "code",
   "execution_count": 9,
   "metadata": {},
   "outputs": [
    {
     "data": {
      "image/png": "[encoded data removed]",
      "text/plain": [
       "<Figure size 432x288 with 1 Axes>"
      ]
     },
     "metadata": {
      "needs_background": "light"
     },
     "output_type": "display_data"
    }
   ],
   "source": [
    "pyplot.boxplot(df_raw[\"AF3\"])\n",
    "pyplot.show()"
   ]
  },
  {
   "cell_type": "code",
   "execution_count": 10,
   "metadata": {},
   "outputs": [
    {
     "data": {
      "image/png": "[encoded data removed]",
      "text/plain": [
       "<Figure size 432x288 with 1 Axes>"
      ]
     },
     "metadata": {
      "needs_background": "light"
     },
     "output_type": "display_data"
    }
   ],
   "source": [
    "pyplot.boxplot(df_raw[\"F7\"])\n",
    "pyplot.show()"
   ]
  },
  {
   "cell_type": "code",
   "execution_count": 11,
   "metadata": {
    "scrolled": true
   },
   "outputs": [
    {
     "data": {
      "image/png": "[encoded data removed]",
      "text/plain": [
       "<Figure size 432x288 with 15 Axes>"
      ]
     },
     "metadata": {
      "needs_background": "light"
     },
     "output_type": "display_data"
    }
   ],
   "source": [
    "values = df_raw.values\n",
    "pyplot.figure()\n",
    "for i in range(values.shape[1]):\n",
    "\tpyplot.subplot(values.shape[1], 1, i+1)\n",
    "\tpyplot.plot(values[:, i])\n",
    "pyplot.show()"
   ]
  },
  {
   "cell_type": "markdown",
   "metadata": {},
   "source": [
    "# Outliers"
   ]
  },
  {
   "cell_type": "code",
   "execution_count": 12,
   "metadata": {},
   "outputs": [
    {
     "name": "stdout",
     "output_type": "stream",
     "text": [
      "AF3\n"
     ]
    },
    {
     "data": {
      "image/png": "[encoded data removed]",
      "text/plain": [
       "<Figure size 432x288 with 1 Axes>"
      ]
     },
     "metadata": {
      "needs_background": "light"
     },
     "output_type": "display_data"
    },
    {
     "name": "stdout",
     "output_type": "stream",
     "text": [
      "F7\n"
     ]
    },
    {
     "data": {
      "image/png": "[encoded data removed]",
      "text/plain": [
       "<Figure size 432x288 with 1 Axes>"
      ]
     },
     "metadata": {
      "needs_background": "light"
     },
     "output_type": "display_data"
    },
    {
     "name": "stdout",
     "output_type": "stream",
     "text": [
      "F3\n"
     ]
    },
    {
     "data": {
      "image/png": "[encoded data removed]",
      "text/plain": [
       "<Figure size 432x288 with 1 Axes>"
      ]
     },
     "metadata": {
      "needs_background": "light"
     },
     "output_type": "display_data"
    },
    {
     "name": "stdout",
     "output_type": "stream",
     "text": [
      "FC5\n"
     ]
    },
    {
     "data": {
      "image/png": "[encoded data removed]",
      "text/plain": [
       "<Figure size 432x288 with 1 Axes>"
      ]
     },
     "metadata": {
      "needs_background": "light"
     },
     "output_type": "display_data"
    },
    {
     "name": "stdout",
     "output_type": "stream",
     "text": [
      "T7\n"
     ]
    },
    {
     "data": {
      "image/png": "[encoded data removed]",
      "text/plain": [
       "<Figure size 432x288 with 1 Axes>"
      ]
     },
     "metadata": {
      "needs_background": "light"
     },
     "output_type": "display_data"
    },
    {
     "name": "stdout",
     "output_type": "stream",
     "text": [
      "P7\n"
     ]
    },
    {
     "data": {
      "image/png": "[encoded data removed]",
      "text/plain": [
       "<Figure size 432x288 with 1 Axes>"
      ]
     },
     "metadata": {
      "needs_background": "light"
     },
     "output_type": "display_data"
    },
    {
     "name": "stdout",
     "output_type": "stream",
     "text": [
      "O1\n"
     ]
    },
    {
     "data": {
      "image/png": "[encoded data removed]",
      "text/plain": [
       "<Figure size 432x288 with 1 Axes>"
      ]
     },
     "metadata": {
      "needs_background": "light"
     },
     "output_type": "display_data"
    },
    {
     "name": "stdout",
     "output_type": "stream",
     "text": [
      "O2\n"
     ]
    },
    {
     "data": {
      "image/png": "[encoded data removed]",
      "text/plain": [
       "<Figure size 432x288 with 1 Axes>"
      ]
     },
     "metadata": {
      "needs_background": "light"
     },
     "output_type": "display_data"
    },
    {
     "name": "stdout",
     "output_type": "stream",
     "text": [
      "P8\n"
     ]
    },
    {
     "data": {
      "image/png": "[encoded data removed]",
      "text/plain": [
       "<Figure size 432x288 with 1 Axes>"
      ]
     },
     "metadata": {
      "needs_background": "light"
     },
     "output_type": "display_data"
    },
    {
     "name": "stdout",
     "output_type": "stream",
     "text": [
      "T8\n"
     ]
    },
    {
     "data": {
      "image/png": "[encoded data removed]",
      "text/plain": [
       "<Figure size 432x288 with 1 Axes>"
      ]
     },
     "metadata": {
      "needs_background": "light"
     },
     "output_type": "display_data"
    },
    {
     "name": "stdout",
     "output_type": "stream",
     "text": [
      "FC6\n"
     ]
    },
    {
     "data": {
      "image/png": "[encoded data removed]",
      "text/plain": [
       "<Figure size 432x288 with 1 Axes>"
      ]
     },
     "metadata": {
      "needs_background": "light"
     },
     "output_type": "display_data"
    },
    {
     "name": "stdout",
     "output_type": "stream",
     "text": [
      "F4\n"
     ]
    },
    {
     "data": {
      "image/png": "[encoded data removed]",
      "text/plain": [
       "<Figure size 432x288 with 1 Axes>"
      ]
     },
     "metadata": {
      "needs_background": "light"
     },
     "output_type": "display_data"
    },
    {
     "name": "stdout",
     "output_type": "stream",
     "text": [
      "F8\n"
     ]
    },
    {
     "data": {
      "image/png": "[encoded data removed]",
      "text/plain": [
       "<Figure size 432x288 with 1 Axes>"
      ]
     },
     "metadata": {
      "needs_background": "light"
     },
     "output_type": "display_data"
    },
    {
     "name": "stdout",
     "output_type": "stream",
     "text": [
      "AF4\n"
     ]
    },
    {
     "data": {
      "image/png": "[encoded data removed]",
      "text/plain": [
       "<Figure size 432x288 with 1 Axes>"
      ]
     },
     "metadata": {
      "needs_background": "light"
     },
     "output_type": "display_data"
    }
   ],
   "source": [
    "columns = list(df_raw)\n",
    "for col in columns[0:-1]: \n",
    "    print(col)\n",
    "    \n",
    "    q1=df_raw[col].quantile(0.10)\n",
    "    q9=df_raw[col].quantile(0.90)\n",
    "    \n",
    "    df_raw[col] = np.where(df_raw[col] > q9, q9, df_raw[col])\n",
    "    df_raw[col] = np.where(df_raw[col] < q1, q1, df_raw[col])\n",
    "    pyplot.boxplot(df_raw[col])\n",
    "    pyplot.show()\n"
   ]
  },
  {
   "cell_type": "code",
   "execution_count": 13,
   "metadata": {},
   "outputs": [
    {
     "data": {
      "text/html": [
       "<div>\n",
       "<style scoped>\n",
       "    .dataframe tbody tr th:only-of-type {\n",
       "        vertical-align: middle;\n",
       "    }\n",
       "\n",
       "    .dataframe tbody tr th {\n",
       "        vertical-align: top;\n",
       "    }\n",
       "\n",
       "    .dataframe thead th {\n",
       "        text-align: right;\n",
       "    }\n",
       "</style>\n",
       "<table border=\"1\" class=\"dataframe\">\n",
       "  <thead>\n",
       "    <tr style=\"text-align: right;\">\n",
       "      <th></th>\n",
       "      <th>AF3</th>\n",
       "      <th>F7</th>\n",
       "      <th>F3</th>\n",
       "      <th>FC5</th>\n",
       "      <th>T7</th>\n",
       "      <th>P7</th>\n",
       "      <th>O1</th>\n",
       "      <th>O2</th>\n",
       "      <th>P8</th>\n",
       "      <th>T8</th>\n",
       "      <th>FC6</th>\n",
       "      <th>F4</th>\n",
       "      <th>F8</th>\n",
       "      <th>AF4</th>\n",
       "      <th>eyeDetection</th>\n",
       "    </tr>\n",
       "  </thead>\n",
       "  <tbody>\n",
       "    <tr>\n",
       "      <td>count</td>\n",
       "      <td>14980.000000</td>\n",
       "      <td>14980.000000</td>\n",
       "      <td>14980.000000</td>\n",
       "      <td>14980.000000</td>\n",
       "      <td>14980.000000</td>\n",
       "      <td>14980.000000</td>\n",
       "      <td>14980.000000</td>\n",
       "      <td>14980.000000</td>\n",
       "      <td>14980.000000</td>\n",
       "      <td>14980.000000</td>\n",
       "      <td>14980.000000</td>\n",
       "      <td>14980.000000</td>\n",
       "      <td>14980.000000</td>\n",
       "      <td>14980.000000</td>\n",
       "      <td>14980.000000</td>\n",
       "    </tr>\n",
       "    <tr>\n",
       "      <td>mean</td>\n",
       "      <td>4298.690383</td>\n",
       "      <td>4008.142884</td>\n",
       "      <td>4262.432959</td>\n",
       "      <td>4120.968228</td>\n",
       "      <td>4339.797169</td>\n",
       "      <td>4618.399451</td>\n",
       "      <td>4071.754331</td>\n",
       "      <td>4614.416151</td>\n",
       "      <td>4200.195144</td>\n",
       "      <td>4230.174575</td>\n",
       "      <td>4200.906694</td>\n",
       "      <td>4277.920207</td>\n",
       "      <td>4604.714086</td>\n",
       "      <td>4359.328055</td>\n",
       "      <td>0.448798</td>\n",
       "    </tr>\n",
       "    <tr>\n",
       "      <td>std</td>\n",
       "      <td>23.412838</td>\n",
       "      <td>22.192181</td>\n",
       "      <td>12.674076</td>\n",
       "      <td>14.163704</td>\n",
       "      <td>9.629562</td>\n",
       "      <td>9.948019</td>\n",
       "      <td>15.865246</td>\n",
       "      <td>12.109806</td>\n",
       "      <td>11.915825</td>\n",
       "      <td>12.514546</td>\n",
       "      <td>15.159389</td>\n",
       "      <td>12.993495</td>\n",
       "      <td>18.979171</td>\n",
       "      <td>23.224522</td>\n",
       "      <td>0.497388</td>\n",
       "    </tr>\n",
       "    <tr>\n",
       "      <td>min</td>\n",
       "      <td>4268.720000</td>\n",
       "      <td>3976.410000</td>\n",
       "      <td>4244.620000</td>\n",
       "      <td>4101.540000</td>\n",
       "      <td>4326.150000</td>\n",
       "      <td>4602.050000</td>\n",
       "      <td>4049.740000</td>\n",
       "      <td>4596.410000</td>\n",
       "      <td>4182.050000</td>\n",
       "      <td>4211.280000</td>\n",
       "      <td>4176.920000</td>\n",
       "      <td>4258.970000</td>\n",
       "      <td>4576.410000</td>\n",
       "      <td>4327.690000</td>\n",
       "      <td>0.000000</td>\n",
       "    </tr>\n",
       "    <tr>\n",
       "      <td>25%</td>\n",
       "      <td>4280.510000</td>\n",
       "      <td>3990.770000</td>\n",
       "      <td>4250.260000</td>\n",
       "      <td>4108.210000</td>\n",
       "      <td>4331.790000</td>\n",
       "      <td>4611.790000</td>\n",
       "      <td>4057.950000</td>\n",
       "      <td>4604.620000</td>\n",
       "      <td>4190.770000</td>\n",
       "      <td>4220.510000</td>\n",
       "      <td>4190.260000</td>\n",
       "      <td>4267.690000</td>\n",
       "      <td>4590.770000</td>\n",
       "      <td>4342.050000</td>\n",
       "      <td>0.000000</td>\n",
       "    </tr>\n",
       "    <tr>\n",
       "      <td>50%</td>\n",
       "      <td>4294.360000</td>\n",
       "      <td>4005.640000</td>\n",
       "      <td>4262.560000</td>\n",
       "      <td>4120.510000</td>\n",
       "      <td>4338.970000</td>\n",
       "      <td>4617.950000</td>\n",
       "      <td>4070.260000</td>\n",
       "      <td>4613.330000</td>\n",
       "      <td>4199.490000</td>\n",
       "      <td>4229.230000</td>\n",
       "      <td>4200.510000</td>\n",
       "      <td>4276.920000</td>\n",
       "      <td>4603.080000</td>\n",
       "      <td>4354.870000</td>\n",
       "      <td>0.000000</td>\n",
       "    </tr>\n",
       "    <tr>\n",
       "      <td>75%</td>\n",
       "      <td>4311.790000</td>\n",
       "      <td>4023.080000</td>\n",
       "      <td>4270.770000</td>\n",
       "      <td>4132.310000</td>\n",
       "      <td>4347.180000</td>\n",
       "      <td>4626.670000</td>\n",
       "      <td>4083.590000</td>\n",
       "      <td>4624.100000</td>\n",
       "      <td>4209.230000</td>\n",
       "      <td>4239.490000</td>\n",
       "      <td>4211.280000</td>\n",
       "      <td>4287.180000</td>\n",
       "      <td>4617.440000</td>\n",
       "      <td>4372.820000</td>\n",
       "      <td>1.000000</td>\n",
       "    </tr>\n",
       "    <tr>\n",
       "      <td>max</td>\n",
       "      <td>4346.670000</td>\n",
       "      <td>4048.210000</td>\n",
       "      <td>4284.100000</td>\n",
       "      <td>4146.150000</td>\n",
       "      <td>4356.461000</td>\n",
       "      <td>4633.850000</td>\n",
       "      <td>4099.490000</td>\n",
       "      <td>4634.360000</td>\n",
       "      <td>4220.000000</td>\n",
       "      <td>4251.280000</td>\n",
       "      <td>4226.150000</td>\n",
       "      <td>4300.510000</td>\n",
       "      <td>4638.970000</td>\n",
       "      <td>4405.130000</td>\n",
       "      <td>1.000000</td>\n",
       "    </tr>\n",
       "  </tbody>\n",
       "</table>\n",
       "</div>"
      ],
      "text/plain": [
       "                AF3            F7            F3           FC5            T7  \\\n",
       "count  14980.000000  14980.000000  14980.000000  14980.000000  14980.000000   \n",
       "mean    4298.690383   4008.142884   4262.432959   4120.968228   4339.797169   \n",
       "std       23.412838     22.192181     12.674076     14.163704      9.629562   \n",
       "min     4268.720000   3976.410000   4244.620000   4101.540000   4326.150000   \n",
       "25%     4280.510000   3990.770000   4250.260000   4108.210000   4331.790000   \n",
       "50%     4294.360000   4005.640000   4262.560000   4120.510000   4338.970000   \n",
       "75%     4311.790000   4023.080000   4270.770000   4132.310000   4347.180000   \n",
       "max     4346.670000   4048.210000   4284.100000   4146.150000   4356.461000   \n",
       "\n",
       "                 P7            O1            O2            P8            T8  \\\n",
       "count  14980.000000  14980.000000  14980.000000  14980.000000  14980.000000   \n",
       "mean    4618.399451   4071.754331   4614.416151   4200.195144   4230.174575   \n",
       "std        9.948019     15.865246     12.109806     11.915825     12.514546   \n",
       "min     4602.050000   4049.740000   4596.410000   4182.050000   4211.280000   \n",
       "25%     4611.790000   4057.950000   4604.620000   4190.770000   4220.510000   \n",
       "50%     4617.950000   4070.260000   4613.330000   4199.490000   4229.230000   \n",
       "75%     4626.670000   4083.590000   4624.100000   4209.230000   4239.490000   \n",
       "max     4633.850000   4099.490000   4634.360000   4220.000000   4251.280000   \n",
       "\n",
       "                FC6            F4            F8           AF4  eyeDetection  \n",
       "count  14980.000000  14980.000000  14980.000000  14980.000000  14980.000000  \n",
       "mean    4200.906694   4277.920207   4604.714086   4359.328055      0.448798  \n",
       "std       15.159389     12.993495     18.979171     23.224522      0.497388  \n",
       "min     4176.920000   4258.970000   4576.410000   4327.690000      0.000000  \n",
       "25%     4190.260000   4267.690000   4590.770000   4342.050000      0.000000  \n",
       "50%     4200.510000   4276.920000   4603.080000   4354.870000      0.000000  \n",
       "75%     4211.280000   4287.180000   4617.440000   4372.820000      1.000000  \n",
       "max     4226.150000   4300.510000   4638.970000   4405.130000      1.000000  "
      ]
     },
     "execution_count": 13,
     "metadata": {},
     "output_type": "execute_result"
    }
   ],
   "source": [
    "df_raw.describe()"
   ]
  },
  {
   "cell_type": "code",
   "execution_count": 14,
   "metadata": {},
   "outputs": [
    {
     "data": {
      "image/png": "[encoded data removed]",
      "text/plain": [
       "<Figure size 432x288 with 15 Axes>"
      ]
     },
     "metadata": {
      "needs_background": "light"
     },
     "output_type": "display_data"
    }
   ],
   "source": [
    "values = df_raw.values\n",
    "pyplot.figure()\n",
    "for i in range(values.shape[1]):\n",
    "\tpyplot.subplot(values.shape[1], 1, i+1)\n",
    "\tpyplot.plot(values[:, i])\n",
    "pyplot.show()"
   ]
  },
  {
   "cell_type": "code",
   "execution_count": 15,
   "metadata": {},
   "outputs": [],
   "source": [
    "# We create a new CSV file after removing outliers\n",
    "df_raw.to_csv('EEG_without_outliers.csv', index=False)"
   ]
  },
  {
   "cell_type": "code",
   "execution_count": 16,
   "metadata": {},
   "outputs": [],
   "source": [
    "df = pd.read_csv(\"EEG_without_outliers.csv\")"
   ]
  },
  {
   "cell_type": "markdown",
   "metadata": {},
   "source": [
    "# Normalization"
   ]
  },
  {
   "cell_type": "code",
   "execution_count": 17,
   "metadata": {},
   "outputs": [],
   "source": [
    "def normalize(dataset):   # min-max normalization by setting min=0 and max=1\n",
    "    dataNorm=((dataset-dataset.min())/(dataset.max()-dataset.min()))*1\n",
    "    dataNorm[\"eyeDetection\"]=dataset[\"eyeDetection\"]\n",
    "    return dataNorm"
   ]
  },
  {
   "cell_type": "code",
   "execution_count": 18,
   "metadata": {},
   "outputs": [
    {
     "data": {
      "text/html": [
       "<div>\n",
       "<style scoped>\n",
       "    .dataframe tbody tr th:only-of-type {\n",
       "        vertical-align: middle;\n",
       "    }\n",
       "\n",
       "    .dataframe tbody tr th {\n",
       "        vertical-align: top;\n",
       "    }\n",
       "\n",
       "    .dataframe thead th {\n",
       "        text-align: right;\n",
       "    }\n",
       "</style>\n",
       "<table border=\"1\" class=\"dataframe\">\n",
       "  <thead>\n",
       "    <tr style=\"text-align: right;\">\n",
       "      <th></th>\n",
       "      <th>AF3</th>\n",
       "      <th>F7</th>\n",
       "      <th>F3</th>\n",
       "      <th>FC5</th>\n",
       "      <th>T7</th>\n",
       "      <th>P7</th>\n",
       "      <th>O1</th>\n",
       "      <th>O2</th>\n",
       "      <th>P8</th>\n",
       "      <th>T8</th>\n",
       "      <th>FC6</th>\n",
       "      <th>F4</th>\n",
       "      <th>F8</th>\n",
       "      <th>AF4</th>\n",
       "      <th>eyeDetection</th>\n",
       "    </tr>\n",
       "  </thead>\n",
       "  <tbody>\n",
       "    <tr>\n",
       "      <td>count</td>\n",
       "      <td>14980.000000</td>\n",
       "      <td>14980.000000</td>\n",
       "      <td>14980.000000</td>\n",
       "      <td>14980.000000</td>\n",
       "      <td>14980.000000</td>\n",
       "      <td>14980.000000</td>\n",
       "      <td>14980.000000</td>\n",
       "      <td>14980.000000</td>\n",
       "      <td>14980.000000</td>\n",
       "      <td>14980.000000</td>\n",
       "      <td>14980.000000</td>\n",
       "      <td>14980.000000</td>\n",
       "      <td>14980.000000</td>\n",
       "      <td>14980.000000</td>\n",
       "      <td>14980.000000</td>\n",
       "    </tr>\n",
       "    <tr>\n",
       "      <td>mean</td>\n",
       "      <td>0.384482</td>\n",
       "      <td>0.441962</td>\n",
       "      <td>0.451189</td>\n",
       "      <td>0.435513</td>\n",
       "      <td>0.450238</td>\n",
       "      <td>0.514134</td>\n",
       "      <td>0.442499</td>\n",
       "      <td>0.474470</td>\n",
       "      <td>0.478133</td>\n",
       "      <td>0.472364</td>\n",
       "      <td>0.487237</td>\n",
       "      <td>0.456192</td>\n",
       "      <td>0.452431</td>\n",
       "      <td>0.408549</td>\n",
       "      <td>0.448798</td>\n",
       "    </tr>\n",
       "    <tr>\n",
       "      <td>std</td>\n",
       "      <td>0.300357</td>\n",
       "      <td>0.309083</td>\n",
       "      <td>0.321025</td>\n",
       "      <td>0.317501</td>\n",
       "      <td>0.317692</td>\n",
       "      <td>0.312831</td>\n",
       "      <td>0.318899</td>\n",
       "      <td>0.319099</td>\n",
       "      <td>0.313987</td>\n",
       "      <td>0.312864</td>\n",
       "      <td>0.307930</td>\n",
       "      <td>0.312795</td>\n",
       "      <td>0.303376</td>\n",
       "      <td>0.299903</td>\n",
       "      <td>0.497388</td>\n",
       "    </tr>\n",
       "    <tr>\n",
       "      <td>min</td>\n",
       "      <td>0.000000</td>\n",
       "      <td>0.000000</td>\n",
       "      <td>0.000000</td>\n",
       "      <td>0.000000</td>\n",
       "      <td>0.000000</td>\n",
       "      <td>0.000000</td>\n",
       "      <td>0.000000</td>\n",
       "      <td>0.000000</td>\n",
       "      <td>0.000000</td>\n",
       "      <td>0.000000</td>\n",
       "      <td>0.000000</td>\n",
       "      <td>0.000000</td>\n",
       "      <td>0.000000</td>\n",
       "      <td>0.000000</td>\n",
       "      <td>0.000000</td>\n",
       "    </tr>\n",
       "    <tr>\n",
       "      <td>25%</td>\n",
       "      <td>0.151251</td>\n",
       "      <td>0.200000</td>\n",
       "      <td>0.142857</td>\n",
       "      <td>0.149518</td>\n",
       "      <td>0.186071</td>\n",
       "      <td>0.306289</td>\n",
       "      <td>0.165025</td>\n",
       "      <td>0.216337</td>\n",
       "      <td>0.229776</td>\n",
       "      <td>0.230750</td>\n",
       "      <td>0.270973</td>\n",
       "      <td>0.209918</td>\n",
       "      <td>0.229540</td>\n",
       "      <td>0.185434</td>\n",
       "      <td>0.000000</td>\n",
       "    </tr>\n",
       "    <tr>\n",
       "      <td>50%</td>\n",
       "      <td>0.328929</td>\n",
       "      <td>0.407103</td>\n",
       "      <td>0.454407</td>\n",
       "      <td>0.425241</td>\n",
       "      <td>0.422949</td>\n",
       "      <td>0.500000</td>\n",
       "      <td>0.412462</td>\n",
       "      <td>0.445850</td>\n",
       "      <td>0.459552</td>\n",
       "      <td>0.448750</td>\n",
       "      <td>0.479179</td>\n",
       "      <td>0.432114</td>\n",
       "      <td>0.426311</td>\n",
       "      <td>0.350981</td>\n",
       "      <td>0.000000</td>\n",
       "    </tr>\n",
       "    <tr>\n",
       "      <td>75%</td>\n",
       "      <td>0.552534</td>\n",
       "      <td>0.650000</td>\n",
       "      <td>0.662361</td>\n",
       "      <td>0.689756</td>\n",
       "      <td>0.693808</td>\n",
       "      <td>0.774214</td>\n",
       "      <td>0.680402</td>\n",
       "      <td>0.729644</td>\n",
       "      <td>0.716206</td>\n",
       "      <td>0.705250</td>\n",
       "      <td>0.697948</td>\n",
       "      <td>0.679104</td>\n",
       "      <td>0.655850</td>\n",
       "      <td>0.582774</td>\n",
       "      <td>1.000000</td>\n",
       "    </tr>\n",
       "    <tr>\n",
       "      <td>max</td>\n",
       "      <td>1.000000</td>\n",
       "      <td>1.000000</td>\n",
       "      <td>1.000000</td>\n",
       "      <td>1.000000</td>\n",
       "      <td>1.000000</td>\n",
       "      <td>1.000000</td>\n",
       "      <td>1.000000</td>\n",
       "      <td>1.000000</td>\n",
       "      <td>1.000000</td>\n",
       "      <td>1.000000</td>\n",
       "      <td>1.000000</td>\n",
       "      <td>1.000000</td>\n",
       "      <td>1.000000</td>\n",
       "      <td>1.000000</td>\n",
       "      <td>1.000000</td>\n",
       "    </tr>\n",
       "  </tbody>\n",
       "</table>\n",
       "</div>"
      ],
      "text/plain": [
       "                AF3            F7            F3           FC5            T7  \\\n",
       "count  14980.000000  14980.000000  14980.000000  14980.000000  14980.000000   \n",
       "mean       0.384482      0.441962      0.451189      0.435513      0.450238   \n",
       "std        0.300357      0.309083      0.321025      0.317501      0.317692   \n",
       "min        0.000000      0.000000      0.000000      0.000000      0.000000   \n",
       "25%        0.151251      0.200000      0.142857      0.149518      0.186071   \n",
       "50%        0.328929      0.407103      0.454407      0.425241      0.422949   \n",
       "75%        0.552534      0.650000      0.662361      0.689756      0.693808   \n",
       "max        1.000000      1.000000      1.000000      1.000000      1.000000   \n",
       "\n",
       "                 P7            O1            O2            P8            T8  \\\n",
       "count  14980.000000  14980.000000  14980.000000  14980.000000  14980.000000   \n",
       "mean       0.514134      0.442499      0.474470      0.478133      0.472364   \n",
       "std        0.312831      0.318899      0.319099      0.313987      0.312864   \n",
       "min        0.000000      0.000000      0.000000      0.000000      0.000000   \n",
       "25%        0.306289      0.165025      0.216337      0.229776      0.230750   \n",
       "50%        0.500000      0.412462      0.445850      0.459552      0.448750   \n",
       "75%        0.774214      0.680402      0.729644      0.716206      0.705250   \n",
       "max        1.000000      1.000000      1.000000      1.000000      1.000000   \n",
       "\n",
       "                FC6            F4            F8           AF4  eyeDetection  \n",
       "count  14980.000000  14980.000000  14980.000000  14980.000000  14980.000000  \n",
       "mean       0.487237      0.456192      0.452431      0.408549      0.448798  \n",
       "std        0.307930      0.312795      0.303376      0.299903      0.497388  \n",
       "min        0.000000      0.000000      0.000000      0.000000      0.000000  \n",
       "25%        0.270973      0.209918      0.229540      0.185434      0.000000  \n",
       "50%        0.479179      0.432114      0.426311      0.350981      0.000000  \n",
       "75%        0.697948      0.679104      0.655850      0.582774      1.000000  \n",
       "max        1.000000      1.000000      1.000000      1.000000      1.000000  "
      ]
     },
     "execution_count": 18,
     "metadata": {},
     "output_type": "execute_result"
    }
   ],
   "source": [
    "df=normalize(df)\n",
    "df.describe()"
   ]
  },
  {
   "cell_type": "code",
   "execution_count": 19,
   "metadata": {},
   "outputs": [
    {
     "data": {
      "image/png": "[encoded data removed]",
      "text/plain": [
       "<Figure size 432x288 with 15 Axes>"
      ]
     },
     "metadata": {
      "needs_background": "light"
     },
     "output_type": "display_data"
    }
   ],
   "source": [
    "values = df.values\n",
    "pyplot.figure()\n",
    "for i in range(values.shape[1]):\n",
    "\tpyplot.subplot(values.shape[1], 1, i+1)\n",
    "\tpyplot.plot(values[:, i])\n",
    "pyplot.show()"
   ]
  },
  {
   "cell_type": "code",
   "execution_count": 20,
   "metadata": {},
   "outputs": [],
   "source": [
    "# We create a new CSV file after normalization process\n",
    "df.to_csv('EEG_after_preprocessing.csv', index=False)"
   ]
  },
  {
   "cell_type": "code",
   "execution_count": 21,
   "metadata": {
    "scrolled": true
   },
   "outputs": [
    {
     "data": {
      "text/html": [
       "<div>\n",
       "<style scoped>\n",
       "    .dataframe tbody tr th:only-of-type {\n",
       "        vertical-align: middle;\n",
       "    }\n",
       "\n",
       "    .dataframe tbody tr th {\n",
       "        vertical-align: top;\n",
       "    }\n",
       "\n",
       "    .dataframe thead th {\n",
       "        text-align: right;\n",
       "    }\n",
       "</style>\n",
       "<table border=\"1\" class=\"dataframe\">\n",
       "  <thead>\n",
       "    <tr style=\"text-align: right;\">\n",
       "      <th></th>\n",
       "      <th>AF3</th>\n",
       "      <th>F7</th>\n",
       "      <th>F3</th>\n",
       "      <th>FC5</th>\n",
       "      <th>T7</th>\n",
       "      <th>P7</th>\n",
       "      <th>O1</th>\n",
       "      <th>O2</th>\n",
       "      <th>P8</th>\n",
       "      <th>T8</th>\n",
       "      <th>FC6</th>\n",
       "      <th>F4</th>\n",
       "      <th>F8</th>\n",
       "      <th>AF4</th>\n",
       "      <th>eyeDetection</th>\n",
       "    </tr>\n",
       "  </thead>\n",
       "  <tbody>\n",
       "    <tr>\n",
       "      <td>count</td>\n",
       "      <td>14980.000000</td>\n",
       "      <td>14980.000000</td>\n",
       "      <td>14980.000000</td>\n",
       "      <td>14980.000000</td>\n",
       "      <td>14980.000000</td>\n",
       "      <td>14980.000000</td>\n",
       "      <td>14980.000000</td>\n",
       "      <td>14980.000000</td>\n",
       "      <td>14980.000000</td>\n",
       "      <td>14980.000000</td>\n",
       "      <td>14980.000000</td>\n",
       "      <td>14980.000000</td>\n",
       "      <td>14980.000000</td>\n",
       "      <td>14980.000000</td>\n",
       "      <td>14980.000000</td>\n",
       "    </tr>\n",
       "    <tr>\n",
       "      <td>mean</td>\n",
       "      <td>0.384482</td>\n",
       "      <td>0.441962</td>\n",
       "      <td>0.451189</td>\n",
       "      <td>0.435513</td>\n",
       "      <td>0.450238</td>\n",
       "      <td>0.514134</td>\n",
       "      <td>0.442499</td>\n",
       "      <td>0.474470</td>\n",
       "      <td>0.478133</td>\n",
       "      <td>0.472364</td>\n",
       "      <td>0.487237</td>\n",
       "      <td>0.456192</td>\n",
       "      <td>0.452431</td>\n",
       "      <td>0.408549</td>\n",
       "      <td>0.448798</td>\n",
       "    </tr>\n",
       "    <tr>\n",
       "      <td>std</td>\n",
       "      <td>0.300357</td>\n",
       "      <td>0.309083</td>\n",
       "      <td>0.321025</td>\n",
       "      <td>0.317501</td>\n",
       "      <td>0.317692</td>\n",
       "      <td>0.312831</td>\n",
       "      <td>0.318899</td>\n",
       "      <td>0.319099</td>\n",
       "      <td>0.313987</td>\n",
       "      <td>0.312864</td>\n",
       "      <td>0.307930</td>\n",
       "      <td>0.312795</td>\n",
       "      <td>0.303376</td>\n",
       "      <td>0.299903</td>\n",
       "      <td>0.497388</td>\n",
       "    </tr>\n",
       "    <tr>\n",
       "      <td>min</td>\n",
       "      <td>0.000000</td>\n",
       "      <td>0.000000</td>\n",
       "      <td>0.000000</td>\n",
       "      <td>0.000000</td>\n",
       "      <td>0.000000</td>\n",
       "      <td>0.000000</td>\n",
       "      <td>0.000000</td>\n",
       "      <td>0.000000</td>\n",
       "      <td>0.000000</td>\n",
       "      <td>0.000000</td>\n",
       "      <td>0.000000</td>\n",
       "      <td>0.000000</td>\n",
       "      <td>0.000000</td>\n",
       "      <td>0.000000</td>\n",
       "      <td>0.000000</td>\n",
       "    </tr>\n",
       "    <tr>\n",
       "      <td>25%</td>\n",
       "      <td>0.151251</td>\n",
       "      <td>0.200000</td>\n",
       "      <td>0.142857</td>\n",
       "      <td>0.149518</td>\n",
       "      <td>0.186071</td>\n",
       "      <td>0.306289</td>\n",
       "      <td>0.165025</td>\n",
       "      <td>0.216337</td>\n",
       "      <td>0.229776</td>\n",
       "      <td>0.230750</td>\n",
       "      <td>0.270973</td>\n",
       "      <td>0.209918</td>\n",
       "      <td>0.229540</td>\n",
       "      <td>0.185434</td>\n",
       "      <td>0.000000</td>\n",
       "    </tr>\n",
       "    <tr>\n",
       "      <td>50%</td>\n",
       "      <td>0.328929</td>\n",
       "      <td>0.407103</td>\n",
       "      <td>0.454407</td>\n",
       "      <td>0.425241</td>\n",
       "      <td>0.422949</td>\n",
       "      <td>0.500000</td>\n",
       "      <td>0.412462</td>\n",
       "      <td>0.445850</td>\n",
       "      <td>0.459552</td>\n",
       "      <td>0.448750</td>\n",
       "      <td>0.479179</td>\n",
       "      <td>0.432114</td>\n",
       "      <td>0.426311</td>\n",
       "      <td>0.350981</td>\n",
       "      <td>0.000000</td>\n",
       "    </tr>\n",
       "    <tr>\n",
       "      <td>75%</td>\n",
       "      <td>0.552534</td>\n",
       "      <td>0.650000</td>\n",
       "      <td>0.662361</td>\n",
       "      <td>0.689756</td>\n",
       "      <td>0.693808</td>\n",
       "      <td>0.774214</td>\n",
       "      <td>0.680402</td>\n",
       "      <td>0.729644</td>\n",
       "      <td>0.716206</td>\n",
       "      <td>0.705250</td>\n",
       "      <td>0.697948</td>\n",
       "      <td>0.679104</td>\n",
       "      <td>0.655850</td>\n",
       "      <td>0.582774</td>\n",
       "      <td>1.000000</td>\n",
       "    </tr>\n",
       "    <tr>\n",
       "      <td>max</td>\n",
       "      <td>1.000000</td>\n",
       "      <td>1.000000</td>\n",
       "      <td>1.000000</td>\n",
       "      <td>1.000000</td>\n",
       "      <td>1.000000</td>\n",
       "      <td>1.000000</td>\n",
       "      <td>1.000000</td>\n",
       "      <td>1.000000</td>\n",
       "      <td>1.000000</td>\n",
       "      <td>1.000000</td>\n",
       "      <td>1.000000</td>\n",
       "      <td>1.000000</td>\n",
       "      <td>1.000000</td>\n",
       "      <td>1.000000</td>\n",
       "      <td>1.000000</td>\n",
       "    </tr>\n",
       "  </tbody>\n",
       "</table>\n",
       "</div>"
      ],
      "text/plain": [
       "                AF3            F7            F3           FC5            T7  \\\n",
       "count  14980.000000  14980.000000  14980.000000  14980.000000  14980.000000   \n",
       "mean       0.384482      0.441962      0.451189      0.435513      0.450238   \n",
       "std        0.300357      0.309083      0.321025      0.317501      0.317692   \n",
       "min        0.000000      0.000000      0.000000      0.000000      0.000000   \n",
       "25%        0.151251      0.200000      0.142857      0.149518      0.186071   \n",
       "50%        0.328929      0.407103      0.454407      0.425241      0.422949   \n",
       "75%        0.552534      0.650000      0.662361      0.689756      0.693808   \n",
       "max        1.000000      1.000000      1.000000      1.000000      1.000000   \n",
       "\n",
       "                 P7            O1            O2            P8            T8  \\\n",
       "count  14980.000000  14980.000000  14980.000000  14980.000000  14980.000000   \n",
       "mean       0.514134      0.442499      0.474470      0.478133      0.472364   \n",
       "std        0.312831      0.318899      0.319099      0.313987      0.312864   \n",
       "min        0.000000      0.000000      0.000000      0.000000      0.000000   \n",
       "25%        0.306289      0.165025      0.216337      0.229776      0.230750   \n",
       "50%        0.500000      0.412462      0.445850      0.459552      0.448750   \n",
       "75%        0.774214      0.680402      0.729644      0.716206      0.705250   \n",
       "max        1.000000      1.000000      1.000000      1.000000      1.000000   \n",
       "\n",
       "                FC6            F4            F8           AF4  eyeDetection  \n",
       "count  14980.000000  14980.000000  14980.000000  14980.000000  14980.000000  \n",
       "mean       0.487237      0.456192      0.452431      0.408549      0.448798  \n",
       "std        0.307930      0.312795      0.303376      0.299903      0.497388  \n",
       "min        0.000000      0.000000      0.000000      0.000000      0.000000  \n",
       "25%        0.270973      0.209918      0.229540      0.185434      0.000000  \n",
       "50%        0.479179      0.432114      0.426311      0.350981      0.000000  \n",
       "75%        0.697948      0.679104      0.655850      0.582774      1.000000  \n",
       "max        1.000000      1.000000      1.000000      1.000000      1.000000  "
      ]
     },
     "execution_count": 21,
     "metadata": {},
     "output_type": "execute_result"
    }
   ],
   "source": [
    "dataset = pd.read_csv(\"EEG_after_preprocessing.csv\")\n",
    "dataset.describe()"
   ]
  },
  {
   "cell_type": "code",
   "execution_count": 22,
   "metadata": {},
   "outputs": [],
   "source": [
    "X = dataset.drop('eyeDetection', axis=1) \n",
    "y = dataset['eyeDetection']"
   ]
  },
  {
   "cell_type": "code",
   "execution_count": 23,
   "metadata": {},
   "outputs": [],
   "source": [
    "# Splitting data with holdout method\n",
    "X_train, X_test, y_train, y_test = train_test_split(X, y, test_size=0.20, random_state = 1)"
   ]
  },
  {
   "cell_type": "markdown",
   "metadata": {},
   "source": [
    "# Implementations of Classification Models"
   ]
  },
  {
   "cell_type": "code",
   "execution_count": 24,
   "metadata": {},
   "outputs": [
    {
     "name": "stdout",
     "output_type": "stream",
     "text": [
      "Confusion matrix for Decision tree with Gain Ratio: \n",
      " [[1414  247]\n",
      " [ 272 1063]]\n",
      "\n",
      "Accuracy Score for Gain Ratio:\n",
      " 0.8267690253671562\n",
      "\n",
      "Classification report for Gain Ratio: \n",
      "               precision    recall  f1-score   support\n",
      "\n",
      "           0       0.84      0.85      0.84      1661\n",
      "           1       0.81      0.80      0.80      1335\n",
      "\n",
      "    accuracy                           0.83      2996\n",
      "   macro avg       0.83      0.82      0.82      2996\n",
      "weighted avg       0.83      0.83      0.83      2996\n",
      "\n",
      "Runtime for Gain Ratio(Holdout Method):  0.10361036699999815\n"
     ]
    }
   ],
   "source": [
    "#gain ratio implementation (holdout method)\n",
    "start = timeit.default_timer()\n",
    "gainModel = DecisionTreeClassifier(criterion=\"entropy\")\n",
    "gainModel.fit(X_train, y_train)\n",
    "y_predict = gainModel.predict(X_test)\n",
    "gain_accuracy=accuracy_score(y_test, y_predict)\n",
    "stop = timeit.default_timer()\n",
    "\n",
    "print(\"Confusion matrix for Decision tree with Gain Ratio: \\n\",confusion_matrix(y_test, y_predict))\n",
    "print(\"\\nAccuracy Score for Gain Ratio:\\n\",gain_accuracy )\n",
    "print(\"\\nClassification report for Gain Ratio: \\n\", classification_report(y_test, y_predict))\n",
    "print('Runtime for Gain Ratio(Holdout Method): ', stop - start)"
   ]
  },
  {
   "cell_type": "code",
   "execution_count": 25,
   "metadata": {},
   "outputs": [
    {
     "name": "stdout",
     "output_type": "stream",
     "text": [
      "Confusion matrix for Decision tree with Gini Index: \n",
      " [[1404  257]\n",
      " [ 241 1094]]\n",
      "\n",
      "Accuracy Score for Gini Index:\n",
      " 0.8337783711615487\n",
      "\n",
      "Classification report for Gini: \n",
      "               precision    recall  f1-score   support\n",
      "\n",
      "           0       0.85      0.85      0.85      1661\n",
      "           1       0.81      0.82      0.81      1335\n",
      "\n",
      "    accuracy                           0.83      2996\n",
      "   macro avg       0.83      0.83      0.83      2996\n",
      "weighted avg       0.83      0.83      0.83      2996\n",
      "\n",
      "Runtime for Gini Index(Holdout Method):  0.09241177299999848\n"
     ]
    }
   ],
   "source": [
    "#gini index implementation (holdout method)\n",
    "start = timeit.default_timer()\n",
    "giniModel = DecisionTreeClassifier()\n",
    "giniModel.fit(X_train, y_train)\n",
    "y_predict = giniModel.predict(X_test)\n",
    "gini_accuracy=accuracy_score(y_test, y_predict)\n",
    "stop = timeit.default_timer()\n",
    "\n",
    "\n",
    "print(\"Confusion matrix for Decision tree with Gini Index: \\n\",confusion_matrix(y_test, y_predict))\n",
    "print(\"\\nAccuracy Score for Gini Index:\\n\", gini_accuracy)\n",
    "print(\"\\nClassification report for Gini: \\n\", classification_report(y_test, y_predict))\n",
    "print('Runtime for Gini Index(Holdout Method): ', stop - start)"
   ]
  },
  {
   "cell_type": "code",
   "execution_count": 26,
   "metadata": {},
   "outputs": [
    {
     "name": "stdout",
     "output_type": "stream",
     "text": [
      "Confusion matrix for Naive Bayes: \n",
      " [[1241  420]\n",
      " [ 725  610]]\n",
      "\n",
      "Accuracy  for Naive Bayes:\n",
      " 0.6178237650200267\n",
      "\n",
      "Classification report for Naive Bayes: \n",
      "               precision    recall  f1-score   support\n",
      "\n",
      "           0       0.63      0.75      0.68      1661\n",
      "           1       0.59      0.46      0.52      1335\n",
      "\n",
      "    accuracy                           0.62      2996\n",
      "   macro avg       0.61      0.60      0.60      2996\n",
      "weighted avg       0.61      0.62      0.61      2996\n",
      "\n",
      "Runtime for Naive Bayes(Holdout Method):  0.017821846000000363\n"
     ]
    }
   ],
   "source": [
    "#gaussian naive bayes implementation (holdout method)\n",
    "start = timeit.default_timer()\n",
    "naiveBayesModel = GaussianNB()\n",
    "naiveBayesModel.fit(X_train, y_train)\n",
    "y_predict =naiveBayesModel.predict(X_test)\n",
    "bayes_accuracy=accuracy_score(y_test, y_predict)\n",
    "stop = timeit.default_timer()\n",
    "\n",
    "print(\"Confusion matrix for Naive Bayes: \\n\",confusion_matrix(y_test, y_predict))\n",
    "print(\"\\nAccuracy  for Naive Bayes:\\n\",bayes_accuracy )\n",
    "print(\"\\nClassification report for Naive Bayes: \\n\", classification_report(y_test, y_predict))\n",
    "print('Runtime for Naive Bayes(Holdout Method): ', stop - start)\n"
   ]
  },
  {
   "cell_type": "code",
   "execution_count": 27,
   "metadata": {},
   "outputs": [
    {
     "name": "stdout",
     "output_type": "stream",
     "text": [
      "Epoch 1/10\n",
      "11984/11984 [==============================] - 3s 254us/step - loss: 0.6640 - accuracy: 0.5850\n",
      "Epoch 2/10\n",
      "11984/11984 [==============================] - 2s 191us/step - loss: 0.6232 - accuracy: 0.6563\n",
      "Epoch 3/10\n",
      "11984/11984 [==============================] - 2s 200us/step - loss: 0.6013 - accuracy: 0.6798\n",
      "Epoch 4/10\n",
      "11984/11984 [==============================] - 3s 265us/step - loss: 0.5833 - accuracy: 0.6959\n",
      "Epoch 5/10\n",
      "11984/11984 [==============================] - 3s 253us/step - loss: 0.5692 - accuracy: 0.7038\n",
      "Epoch 6/10\n",
      "11984/11984 [==============================] - 4s 294us/step - loss: 0.5570 - accuracy: 0.7104\n",
      "Epoch 7/10\n",
      "11984/11984 [==============================] - 3s 218us/step - loss: 0.5478 - accuracy: 0.7173\n",
      "Epoch 8/10\n",
      "11984/11984 [==============================] - 3s 244us/step - loss: 0.5391 - accuracy: 0.7276\n",
      "Epoch 9/10\n",
      "11984/11984 [==============================] - 5s 397us/step - loss: 0.5313 - accuracy: 0.73360s - loss: 0.5318 - accuracy\n",
      "Epoch 10/10\n",
      "11984/11984 [==============================] - 4s 316us/step - loss: 0.5249 - accuracy: 0.7372\n"
     ]
    },
    {
     "data": {
      "text/plain": [
       "<keras.callbacks.callbacks.History at 0x7fcafe8863d0>"
      ]
     },
     "execution_count": 27,
     "metadata": {},
     "output_type": "execute_result"
    }
   ],
   "source": [
    "# Artificial Neural Network with 1 hidden layer implementation (holdout method) \n",
    "#define the keras model\n",
    "start = timeit.default_timer()\n",
    "annOneHiddenLayer= Sequential()\n",
    "annOneHiddenLayer.add(Dense(10, input_dim=14, activation='relu'))\n",
    "annOneHiddenLayer.add(Dense(1, activation='sigmoid'))\n",
    "# compile the keras model\n",
    "annOneHiddenLayer.compile(loss='binary_crossentropy', optimizer='adam', metrics=['accuracy'])\n",
    "# fit the keras model on the dataset\n",
    "annOneHiddenLayer.fit(X_train, y_train, epochs=10, batch_size=10)\n",
    "\n"
   ]
  },
  {
   "cell_type": "code",
   "execution_count": 28,
   "metadata": {},
   "outputs": [
    {
     "name": "stdout",
     "output_type": "stream",
     "text": [
      "2996/2996 [==============================] - 0s 60us/step\n",
      "Accuracy score for artificial neural network with one hidden layer: 74.77\n",
      "Runtime for ANN with 1 hidden layer(Holdout Method):  32.257663395\n"
     ]
    }
   ],
   "source": [
    "# evaluate the keras model\n",
    "_, ann_one_hidden_layer_accuracy = annOneHiddenLayer.evaluate(X_test, y_test)\n",
    "stop = timeit.default_timer()\n",
    "print('Accuracy score for artificial neural network with one hidden layer: %.2f' % (ann_one_hidden_layer_accuracy*100))\n",
    "print('Runtime for ANN with 1 hidden layer(Holdout Method): ', stop - start)\n",
    "\n"
   ]
  },
  {
   "cell_type": "code",
   "execution_count": 29,
   "metadata": {},
   "outputs": [
    {
     "name": "stdout",
     "output_type": "stream",
     "text": [
      "Epoch 1/10\n",
      "11984/11984 [==============================] - 4s 296us/step - loss: 0.6550 - accuracy: 0.6081\n",
      "Epoch 2/10\n",
      "11984/11984 [==============================] - 4s 332us/step - loss: 0.5936 - accuracy: 0.6814\n",
      "Epoch 3/10\n",
      "11984/11984 [==============================] - 3s 282us/step - loss: 0.5525 - accuracy: 0.7222\n",
      "Epoch 4/10\n",
      "11984/11984 [==============================] - 3s 261us/step - loss: 0.5184 - accuracy: 0.7471\n",
      "Epoch 5/10\n",
      "11984/11984 [==============================] - 3s 244us/step - loss: 0.4913 - accuracy: 0.7601\n",
      "Epoch 6/10\n",
      "11984/11984 [==============================] - 3s 268us/step - loss: 0.4737 - accuracy: 0.7687\n",
      "Epoch 7/10\n",
      "11984/11984 [==============================] - 5s 401us/step - loss: 0.4590 - accuracy: 0.7782\n",
      "Epoch 8/10\n",
      "11984/11984 [==============================] - 4s 311us/step - loss: 0.4466 - accuracy: 0.7885\n",
      "Epoch 9/10\n",
      "11984/11984 [==============================] - 3s 281us/step - loss: 0.4398 - accuracy: 0.7919\n",
      "Epoch 10/10\n",
      "11984/11984 [==============================] - 4s 301us/step - loss: 0.4313 - accuracy: 0.7973\n"
     ]
    },
    {
     "data": {
      "text/plain": [
       "<keras.callbacks.callbacks.History at 0x7fcafebb1090>"
      ]
     },
     "execution_count": 29,
     "metadata": {},
     "output_type": "execute_result"
    }
   ],
   "source": [
    "# Artificial Neural Network with 2 hidden layer implementation (holdout method)\n",
    "#define the keras model with holdout method\n",
    "start = timeit.default_timer()\n",
    "annTwoHiddenLayer = Sequential()\n",
    "annTwoHiddenLayer.add(Dense(10, input_dim=14, activation='relu'))\n",
    "annTwoHiddenLayer.add(Dense(7, activation='relu'))\n",
    "annTwoHiddenLayer.add(Dense(1, activation='sigmoid'))\n",
    "# compile the keras model\n",
    "annTwoHiddenLayer.compile(loss='binary_crossentropy', optimizer='adam', metrics=['accuracy'])\n",
    "# fit the keras model on the dataset\n",
    "annTwoHiddenLayer.fit(X_train, y_train, epochs=10, batch_size=10)"
   ]
  },
  {
   "cell_type": "code",
   "execution_count": 30,
   "metadata": {},
   "outputs": [
    {
     "name": "stdout",
     "output_type": "stream",
     "text": [
      "2996/2996 [==============================] - 0s 98us/step\n",
      "Accuracy score for artificial neural network with two hidden layer: 81.58\n",
      "Runtime for ANN with 2 hidden layer(Holdout Method):  36.616673515\n"
     ]
    }
   ],
   "source": [
    "# evaluate the keras model\n",
    "\n",
    "_, ann_two_hidden_layer_accuracy = annTwoHiddenLayer.evaluate(X_test, y_test)\n",
    "stop = timeit.default_timer()\n",
    "print('Accuracy score for artificial neural network with two hidden layer: %.2f' % (ann_two_hidden_layer_accuracy*100))\n",
    "print('Runtime for ANN with 2 hidden layer(Holdout Method): ', stop - start)"
   ]
  },
  {
   "cell_type": "code",
   "execution_count": 31,
   "metadata": {},
   "outputs": [
    {
     "name": "stdout",
     "output_type": "stream",
     "text": [
      "Confusion matrix for Support Vector Machine: \n",
      " [[1549  112]\n",
      " [ 295 1040]]\n",
      "\n",
      "Accuracy score for Support Vector Machine:\n",
      " 0.8641522029372497\n",
      "\n",
      "Classification report for Support Vector Machine: \n",
      "               precision    recall  f1-score   support\n",
      "\n",
      "           0       0.84      0.93      0.88      1661\n",
      "           1       0.90      0.78      0.84      1335\n",
      "\n",
      "    accuracy                           0.86      2996\n",
      "   macro avg       0.87      0.86      0.86      2996\n",
      "weighted avg       0.87      0.86      0.86      2996\n",
      "\n",
      "Runtime for Support Vector Machine(Holdout Method):  34.705351973000006\n"
     ]
    }
   ],
   "source": [
    "#SVM implementation (holdout method)\n",
    "start = timeit.default_timer()\n",
    "svmModel = SVC(probability=True, gamma='scale', kernel='poly')\n",
    "svmModel.fit(X_train, y_train)\n",
    "y_predict = svmModel.predict(X_test)\n",
    "svm_accuracy=accuracy_score(y_test, y_predict)\n",
    "stop = timeit.default_timer()\n",
    "\n",
    "print(\"Confusion matrix for Support Vector Machine: \\n\",confusion_matrix(y_test, y_predict))\n",
    "print(\"\\nAccuracy score for Support Vector Machine:\\n\", svm_accuracy)\n",
    "print(\"\\nClassification report for Support Vector Machine: \\n\", classification_report(y_test, y_predict))\n",
    "print('Runtime for Support Vector Machine(Holdout Method): ', stop - start)\n"
   ]
  },
  {
   "cell_type": "code",
   "execution_count": 32,
   "metadata": {},
   "outputs": [],
   "source": [
    "#Arrays to hold accuracy values\n",
    "classifier_base_accuracy=[gain_accuracy,gini_accuracy,bayes_accuracy,ann_one_hidden_layer_accuracy,ann_two_hidden_layer_accuracy,svm_accuracy]\n",
    "gain_accu=[gain_accuracy,0,0]\n",
    "gini_accu=[gini_accuracy,0,0]\n",
    "bayes_accu=[bayes_accuracy,0,0,0]\n",
    "ann1_accu=[ann_one_hidden_layer_accuracy,0,0]\n",
    "ann2_accu=[ann_two_hidden_layer_accuracy,0,0]\n",
    "svm_accu=[svm_accuracy,0,0]"
   ]
  },
  {
   "cell_type": "markdown",
   "metadata": {},
   "source": [
    "# Cross-Validation"
   ]
  },
  {
   "cell_type": "code",
   "execution_count": 33,
   "metadata": {},
   "outputs": [
    {
     "name": "stdout",
     "output_type": "stream",
     "text": [
      "Confusion matrix for Naive Bayes: \n",
      " [[1202  457]\n",
      " [ 767  570]]\n",
      "\n",
      "Accuracy score for Naive Bayes:\n",
      " 0.5914552736982643\n",
      "\n",
      "Classification report for Naive Bayes: \n",
      "               precision    recall  f1-score   support\n",
      "\n",
      "           0       0.61      0.72      0.66      1659\n",
      "           1       0.56      0.43      0.48      1337\n",
      "\n",
      "    accuracy                           0.59      2996\n",
      "   macro avg       0.58      0.58      0.57      2996\n",
      "weighted avg       0.59      0.59      0.58      2996\n",
      "\n",
      "Confusion matrix for Naive Bayes: \n",
      " [[1168  478]\n",
      " [ 734  616]]\n",
      "\n",
      "Accuracy score for Naive Bayes:\n",
      " 0.595460614152203\n",
      "\n",
      "Classification report for Naive Bayes: \n",
      "               precision    recall  f1-score   support\n",
      "\n",
      "           0       0.61      0.71      0.66      1646\n",
      "           1       0.56      0.46      0.50      1350\n",
      "\n",
      "    accuracy                           0.60      2996\n",
      "   macro avg       0.59      0.58      0.58      2996\n",
      "weighted avg       0.59      0.60      0.59      2996\n",
      "\n",
      "Confusion matrix for Naive Bayes: \n",
      " [[1180  451]\n",
      " [ 724  641]]\n",
      "\n",
      "Accuracy score for Naive Bayes:\n",
      " 0.6078104138851802\n",
      "\n",
      "Classification report for Naive Bayes: \n",
      "               precision    recall  f1-score   support\n",
      "\n",
      "           0       0.62      0.72      0.67      1631\n",
      "           1       0.59      0.47      0.52      1365\n",
      "\n",
      "    accuracy                           0.61      2996\n",
      "   macro avg       0.60      0.60      0.59      2996\n",
      "weighted avg       0.60      0.61      0.60      2996\n",
      "\n",
      "Confusion matrix for Naive Bayes: \n",
      " [[1188  437]\n",
      " [ 764  607]]\n",
      "\n",
      "Accuracy score for Naive Bayes:\n",
      " 0.5991321762349799\n",
      "\n",
      "Classification report for Naive Bayes: \n",
      "               precision    recall  f1-score   support\n",
      "\n",
      "           0       0.61      0.73      0.66      1625\n",
      "           1       0.58      0.44      0.50      1371\n",
      "\n",
      "    accuracy                           0.60      2996\n",
      "   macro avg       0.60      0.59      0.58      2996\n",
      "weighted avg       0.60      0.60      0.59      2996\n",
      "\n",
      "Confusion matrix for Naive Bayes: \n",
      " [[1255  441]\n",
      " [ 707  593]]\n",
      "\n",
      "Accuracy score for Naive Bayes:\n",
      " 0.616822429906542\n",
      "\n",
      "Classification report for Naive Bayes: \n",
      "               precision    recall  f1-score   support\n",
      "\n",
      "           0       0.64      0.74      0.69      1696\n",
      "           1       0.57      0.46      0.51      1300\n",
      "\n",
      "    accuracy                           0.62      2996\n",
      "   macro avg       0.61      0.60      0.60      2996\n",
      "weighted avg       0.61      0.62      0.61      2996\n",
      "\n",
      "Average accuracy score on cross validation for Naive Bayes: 0.6021361815754338\n"
     ]
    }
   ],
   "source": [
    "start = timeit.default_timer()\n",
    "kfold = KFold(5, True)\n",
    "accuracy_scores=[]\n",
    "for train, test in kfold.split(X,y):\n",
    "    X_train, X_test, y_train, y_test = X.loc[train],X.loc[test],y.loc[train],y.loc[test]\n",
    "    naiveBayesModel.fit(X_train, y_train)\n",
    "    y_predict = naiveBayesModel.predict(X_test)\n",
    "    accuracy=accuracy_score(y_test, y_predict)\n",
    "    print(\"Confusion matrix for Naive Bayes: \\n\",confusion_matrix(y_test, y_predict))\n",
    "    print(\"\\nAccuracy score for Naive Bayes:\\n\", accuracy)\n",
    "    print(\"\\nClassification report for Naive Bayes: \\n\", classification_report(y_test, y_predict))\n",
    "    accuracy_scores.append(accuracy)\n",
    "stop = timeit.default_timer()\n",
    "print('Average accuracy score on cross validation for Naive Bayes:' ,np.mean(accuracy_scores))\n",
    "\n"
   ]
  },
  {
   "cell_type": "code",
   "execution_count": 34,
   "metadata": {},
   "outputs": [
    {
     "name": "stdout",
     "output_type": "stream",
     "text": [
      "Average accuracy score on cross validation for Naive Bayes: 0.6021361815754338\n",
      "Runtime for Naive Bayes(Cross Validation Method):  0.24245010300001013\n"
     ]
    }
   ],
   "source": [
    "print('Average accuracy score on cross validation for Naive Bayes:' ,np.mean(accuracy_scores))\n",
    "print('Runtime for Naive Bayes(Cross Validation Method): ', stop - start)\n",
    "bayes_accu[1]=(np.mean(accuracy_scores))"
   ]
  },
  {
   "cell_type": "markdown",
   "metadata": {},
   "source": [
    "# Bagging Implementations"
   ]
  },
  {
   "cell_type": "code",
   "execution_count": 35,
   "metadata": {},
   "outputs": [
    {
     "name": "stdout",
     "output_type": "stream",
     "text": [
      "Accuracy of bagging for Gain Ratio:  0.9072096128170895\n",
      "Confusion matrix of bagging for Gain Ratio\n",
      ":  [[1607   89]\n",
      " [ 189 1111]]\n",
      "Classification report for Gain Ratio: \n",
      "               precision    recall  f1-score   support\n",
      "\n",
      "           0       0.89      0.95      0.92      1696\n",
      "           1       0.93      0.85      0.89      1300\n",
      "\n",
      "    accuracy                           0.91      2996\n",
      "   macro avg       0.91      0.90      0.90      2996\n",
      "weighted avg       0.91      0.91      0.91      2996\n",
      "\n",
      "Runtime for Gain Ratio(Bagging Method):  3.9116551950000087\n"
     ]
    }
   ],
   "source": [
    "#bagging for Gain Ratio\n",
    "start = timeit.default_timer()\n",
    "bgGain = BaggingClassifier(gainModel, max_features = 1.0, n_estimators = 50)\n",
    "bgGain.fit(X_train, y_train)\n",
    "score = bgGain.score(X_test, y_test)\n",
    "print('Accuracy of bagging for Gain Ratio: ', score)\n",
    "bg_pred = bgGain.predict(X_test)\n",
    "stop = timeit.default_timer()\n",
    "print('Confusion matrix of bagging for Gain Ratio\\n: ', confusion_matrix(y_test, bg_pred))\n",
    "print(\"Classification report for Gain Ratio: \\n\", classification_report(y_test, bg_pred))\n",
    "print('Runtime for Gain Ratio(Bagging Method): ', stop - start)\n",
    "gain_accu[1]=score\n"
   ]
  },
  {
   "cell_type": "code",
   "execution_count": 36,
   "metadata": {},
   "outputs": [
    {
     "name": "stdout",
     "output_type": "stream",
     "text": [
      "Accuracy of bagging for Gini Index:  0.8951935914552737\n",
      "Confusion matrix of bagging for Gini Index\n",
      ":  [[1595  101]\n",
      " [ 213 1087]]\n",
      "Classification report for Gini Index: \n",
      "               precision    recall  f1-score   support\n",
      "\n",
      "           0       0.88      0.94      0.91      1696\n",
      "           1       0.91      0.84      0.87      1300\n",
      "\n",
      "    accuracy                           0.90      2996\n",
      "   macro avg       0.90      0.89      0.89      2996\n",
      "weighted avg       0.90      0.90      0.89      2996\n",
      "\n",
      "Runtime for Gini Index(Bagging Method):  1.2713160659999971\n"
     ]
    }
   ],
   "source": [
    "#bagging for Gini Index\n",
    "start = timeit.default_timer()\n",
    "bgGini = BaggingClassifier(giniModel, max_features = 1.0, n_estimators = 20)\n",
    "bgGini.fit(X_train, y_train)\n",
    "score = bgGini.score(X_test, y_test)\n",
    "bg_pred = bgGini.predict(X_test)\n",
    "stop = timeit.default_timer()\n",
    "print('Accuracy of bagging for Gini Index: ', score)\n",
    "print('Confusion matrix of bagging for Gini Index\\n: ', confusion_matrix(y_test, bg_pred))\n",
    "print(\"Classification report for Gini Index: \\n\", classification_report(y_test, bg_pred))\n",
    "print('Runtime for Gini Index(Bagging Method): ', stop - start)\n",
    "gini_accu[1]=score"
   ]
  },
  {
   "cell_type": "code",
   "execution_count": 37,
   "metadata": {},
   "outputs": [
    {
     "name": "stdout",
     "output_type": "stream",
     "text": [
      "Accuracy of bagging for Naive Bayes:  0.6178237650200267\n",
      "\n",
      "Confusion matrix of bagging for Naive Bayes\n",
      ":  [[1259  437]\n",
      " [ 708  592]]\n",
      "\n",
      "Classification report for Naive Bayes: \n",
      "               precision    recall  f1-score   support\n",
      "\n",
      "           0       0.64      0.74      0.69      1696\n",
      "           1       0.58      0.46      0.51      1300\n",
      "\n",
      "    accuracy                           0.62      2996\n",
      "   macro avg       0.61      0.60      0.60      2996\n",
      "weighted avg       0.61      0.62      0.61      2996\n",
      "\n",
      "Runtime for Naive Bayes(Bagging Method):  0.11806259499999783\n"
     ]
    }
   ],
   "source": [
    "#bagging for GaussianNB\n",
    "start = timeit.default_timer()\n",
    "bgBayes = BaggingClassifier(naiveBayesModel, n_estimators = 20, max_features = 1.0)\n",
    "bgBayes.fit(X_train, y_train)\n",
    "score = bgBayes.score(X_test, y_test)\n",
    "\n",
    "bg_pred = bgBayes.predict(X_test)\n",
    "stop = timeit.default_timer()\n",
    "print('Accuracy of bagging for Naive Bayes: ', score)\n",
    "print('\\nConfusion matrix of bagging for Naive Bayes\\n: ', confusion_matrix(y_test, bg_pred))\n",
    "print(\"\\nClassification report for Naive Bayes: \\n\", classification_report(y_test, bg_pred))\n",
    "print('Runtime for Naive Bayes(Bagging Method): ', stop - start)\n",
    "bayes_accu[2]=score"
   ]
  },
  {
   "cell_type": "code",
   "execution_count": 38,
   "metadata": {},
   "outputs": [
    {
     "name": "stdout",
     "output_type": "stream",
     "text": [
      "Accuracy of bagging for Ann:  0.9028704939919893\n",
      "\n",
      "Confusion matrix of bagging for Ann: \n",
      " [[1602   94]\n",
      " [ 197 1103]]\n",
      "\n",
      "Classification report for Ann: \n",
      "               precision    recall  f1-score   support\n",
      "\n",
      "           0       0.89      0.94      0.92      1696\n",
      "           1       0.92      0.85      0.88      1300\n",
      "\n",
      "    accuracy                           0.90      2996\n",
      "   macro avg       0.91      0.90      0.90      2996\n",
      "weighted avg       0.90      0.90      0.90      2996\n",
      "\n",
      "Runtime for ANN with 1 hidden layer (Bagging Method):  3.0321768729999974\n"
     ]
    }
   ],
   "source": [
    "#bagging for ANN with 1 hidden layer\n",
    "start = timeit.default_timer()\n",
    "ann1hidden=annOneHiddenLayer.compile(loss='binary_crossentropy', optimizer='adam', metrics=['accuracy'])\n",
    "bgAnnOneHiddenLayer = BaggingClassifier(ann1hidden, n_estimators = 50, max_features = 1.0)\n",
    "bgAnnOneHiddenLayer.fit(X_train, y_train)\n",
    "score = bgAnnOneHiddenLayer.score(X_test, y_test)\n",
    "\n",
    "bg_pred = bgAnnOneHiddenLayer.predict(X_test)\n",
    "stop = timeit.default_timer()\n",
    "print('Accuracy of bagging for Ann: ', score)\n",
    "print('\\nConfusion matrix of bagging for Ann: \\n', confusion_matrix(y_test, bg_pred))\n",
    "print(\"\\nClassification report for Ann: \\n\", classification_report(y_test, bg_pred))\n",
    "print('Runtime for ANN with 1 hidden layer (Bagging Method): ', stop - start)\n",
    "ann1_accu[1]=score"
   ]
  },
  {
   "cell_type": "code",
   "execution_count": 39,
   "metadata": {},
   "outputs": [
    {
     "name": "stdout",
     "output_type": "stream",
     "text": [
      "Accuracy of bagging for Ann2:  0.9062082777036048\n",
      "\n",
      "Confusion matrix of bagging for Ann2: \n",
      " [[1602   94]\n",
      " [ 187 1113]]\n",
      "\n",
      "Classification report for Ann2: \n",
      "               precision    recall  f1-score   support\n",
      "\n",
      "           0       0.90      0.94      0.92      1696\n",
      "           1       0.92      0.86      0.89      1300\n",
      "\n",
      "    accuracy                           0.91      2996\n",
      "   macro avg       0.91      0.90      0.90      2996\n",
      "weighted avg       0.91      0.91      0.91      2996\n",
      "\n",
      "Runtime for ANN with 2 hidden layer (Bagging Method):  3.1734188609999876\n"
     ]
    }
   ],
   "source": [
    "#bagging for ANN with 2 hidden layer\n",
    "start = timeit.default_timer()\n",
    "annTwoHiddenLayer = Sequential()\n",
    "annTwoHiddenLayer.add(Dense(10, input_dim=14, activation='relu'))\n",
    "annTwoHiddenLayer.add(Dense(7, activation='relu'))\n",
    "annTwoHiddenLayer.add(Dense(1, activation='sigmoid'))\n",
    "ann2hidden=annTwoHiddenLayer.compile(loss='binary_crossentropy', optimizer='adam', metrics=['accuracy'])\n",
    "bgAnnTwoHiddenLayer = BaggingClassifier(ann2hidden, n_estimators = 50, max_features = 1.0)\n",
    "bgAnnTwoHiddenLayer.fit(X_train, y_train)\n",
    "score = bgAnnTwoHiddenLayer.score(X_test, y_test)\n",
    "\n",
    "bg_pred = bgAnnTwoHiddenLayer.predict(X_test)\n",
    "stop = timeit.default_timer()\n",
    "print('Accuracy of bagging for Ann2: ', score)\n",
    "print('\\nConfusion matrix of bagging for Ann2: \\n', confusion_matrix(y_test, bg_pred))\n",
    "print(\"\\nClassification report for Ann2: \\n\", classification_report(y_test, bg_pred))\n",
    "print('Runtime for ANN with 2 hidden layer (Bagging Method): ', stop - start)\n",
    "ann2_accu[1]=score"
   ]
  },
  {
   "cell_type": "code",
   "execution_count": 40,
   "metadata": {},
   "outputs": [
    {
     "name": "stdout",
     "output_type": "stream",
     "text": [
      "Accuracy of bagging for SVM:  0.8731642189586115\n",
      "\n",
      "Confusion matrix of bagging for SVM:\n",
      "  [[1576  120]\n",
      " [ 260 1040]]\n",
      "\n",
      "Classification report for SVM: \n",
      "               precision    recall  f1-score   support\n",
      "\n",
      "           0       0.86      0.93      0.89      1696\n",
      "           1       0.90      0.80      0.85      1300\n",
      "\n",
      "    accuracy                           0.87      2996\n",
      "   macro avg       0.88      0.86      0.87      2996\n",
      "weighted avg       0.87      0.87      0.87      2996\n",
      "\n",
      "Runtime for SVM (Bagging Method):  295.602964629\n"
     ]
    }
   ],
   "source": [
    "#bagging for SVM\n",
    "start = timeit.default_timer()\n",
    "bgSVM = BaggingClassifier(svmModel, n_estimators = 20, max_features = 1.0)\n",
    "bgSVM.fit(X_train, y_train)\n",
    "score = bgSVM.score(X_test, y_test)\n",
    "\n",
    "bg_pred = bgSVM.predict(X_test)\n",
    "stop = timeit.default_timer()\n",
    "print('Accuracy of bagging for SVM: ', score)\n",
    "print('\\nConfusion matrix of bagging for SVM:\\n ', confusion_matrix(y_test, bg_pred))\n",
    "print(\"\\nClassification report for SVM: \\n\", classification_report(y_test, bg_pred))\n",
    "print('Runtime for SVM (Bagging Method): ', stop - start)\n",
    "svm_accu[1]=score"
   ]
  },
  {
   "cell_type": "markdown",
   "metadata": {},
   "source": [
    "# Boosting Implementations"
   ]
  },
  {
   "cell_type": "code",
   "execution_count": 41,
   "metadata": {},
   "outputs": [
    {
     "name": "stdout",
     "output_type": "stream",
     "text": [
      "Accuracy of boosting for Gain Ratio:  0.8678237650200267\n",
      "\n",
      "Confusion matrix of boosting for Gain Ratio: \n",
      " [[1524  172]\n",
      " [ 224 1076]]\n",
      "\n",
      "Classification report for Gain Ratio: \n",
      "               precision    recall  f1-score   support\n",
      "\n",
      "           0       0.87      0.90      0.89      1696\n",
      "           1       0.86      0.83      0.84      1300\n",
      "\n",
      "    accuracy                           0.87      2996\n",
      "   macro avg       0.87      0.86      0.86      2996\n",
      "weighted avg       0.87      0.87      0.87      2996\n",
      "\n",
      "Runtime for Gain Ratio (Boosting Method):  5.633132063000005\n"
     ]
    }
   ],
   "source": [
    "#boosting for Gain Ratio\n",
    "start = timeit.default_timer()\n",
    "adbGain = AdaBoostClassifier(gainModel, n_estimators = 50, learning_rate = 0.01)\n",
    "adbGain.fit(X_train, y_train)\n",
    "score = adbGain.score(X_test, y_test)\n",
    "\n",
    "bg_pred = adbGain.predict(X_test)\n",
    "stop = timeit.default_timer()\n",
    "print('Accuracy of boosting for Gain Ratio: ', score)\n",
    "print('\\nConfusion matrix of boosting for Gain Ratio: \\n', confusion_matrix(y_test, bg_pred))\n",
    "print(\"\\nClassification report for Gain Ratio: \\n\", classification_report(y_test, bg_pred))\n",
    "print('Runtime for Gain Ratio (Boosting Method): ', stop - start)\n",
    "gain_accu[2]=score"
   ]
  },
  {
   "cell_type": "code",
   "execution_count": 42,
   "metadata": {},
   "outputs": [
    {
     "name": "stdout",
     "output_type": "stream",
     "text": [
      "Accuracy of boosting for Gini Index:  0.8768357810413885\n",
      "\n",
      "Confusion matrix of boosting for Gini Index\n",
      ":  [[1553  143]\n",
      " [ 226 1074]]\n",
      "\n",
      "Classification report for Gini Index: \n",
      "               precision    recall  f1-score   support\n",
      "\n",
      "           0       0.87      0.92      0.89      1696\n",
      "           1       0.88      0.83      0.85      1300\n",
      "\n",
      "    accuracy                           0.88      2996\n",
      "   macro avg       0.88      0.87      0.87      2996\n",
      "weighted avg       0.88      0.88      0.88      2996\n",
      "\n",
      "Runtime for Gini Index (Boosting Method):  2.0387563890000138\n"
     ]
    }
   ],
   "source": [
    "#boosting for Gini Index\n",
    "start = timeit.default_timer()\n",
    "adbGini = AdaBoostClassifier(giniModel, n_estimators = 10, learning_rate = 1)\n",
    "adbGini.fit(X_train, y_train)\n",
    "score = adbGini.score(X_test, y_test)\n",
    "\n",
    "bg_pred = adbGini.predict(X_test)\n",
    "stop = timeit.default_timer()\n",
    "print('Accuracy of boosting for Gini Index: ', score)\n",
    "print('\\nConfusion matrix of boosting for Gini Index\\n: ', confusion_matrix(y_test, bg_pred))\n",
    "print(\"\\nClassification report for Gini Index: \\n\", classification_report(y_test, bg_pred))\n",
    "print('Runtime for Gini Index (Boosting Method): ', stop - start)\n",
    "gini_accu[2]=score"
   ]
  },
  {
   "cell_type": "code",
   "execution_count": 43,
   "metadata": {},
   "outputs": [
    {
     "name": "stdout",
     "output_type": "stream",
     "text": [
      "Accuracy score of boosting for Naive Bayes:  0.7109479305740988\n",
      "Estimator value is:  500\n",
      "Learning rate value is:  1.0\n"
     ]
    }
   ],
   "source": [
    "#boosting for GaussianNB\n",
    "\n",
    "ne = [10 , 50 , 100 , 500]\n",
    "lr = [0.0001, 0.001, 0.01, 0.1, 1.0]\n",
    "max_val = 0\n",
    "max_x = 0;\n",
    "max_y = 0;\n",
    "for x in ne:\n",
    "    for y in lr: \n",
    "        adbBayes = AdaBoostClassifier(naiveBayesModel, n_estimators = x, learning_rate = y)\n",
    "        adbBayes.fit(X_train, y_train)\n",
    "        score = adbBayes.score(X_test, y_test)\n",
    "        if score > max_val:\n",
    "            max_val = score\n",
    "            max_x = x\n",
    "            max_y = y\n",
    "            bg_pred = adbBayes.predict(X_test)\n",
    "           \n",
    "print('Accuracy score of boosting for Naive Bayes: ',max_val)\n",
    "print('Estimator value is: ', x)\n",
    "print('Learning rate value is: ', y)\n",
    "\n",
    "      "
   ]
  },
  {
   "cell_type": "code",
   "execution_count": 44,
   "metadata": {},
   "outputs": [
    {
     "name": "stdout",
     "output_type": "stream",
     "text": [
      "Accuracy of boosting for NaiveBayes:  0.5761014686248331\n",
      "\n",
      "Confusion matrix of boosting for NaiveBayes:\n",
      "  [[1069  627]\n",
      " [ 643  657]]\n",
      "\n",
      "Classification report for Gini NaiveBayes: \n",
      "               precision    recall  f1-score   support\n",
      "\n",
      "           0       0.62      0.63      0.63      1696\n",
      "           1       0.51      0.51      0.51      1300\n",
      "\n",
      "    accuracy                           0.58      2996\n",
      "   macro avg       0.57      0.57      0.57      2996\n",
      "weighted avg       0.58      0.58      0.58      2996\n",
      "\n",
      "Runtime for Naive Bayes (Boosting Method):  5.046764182000004\n"
     ]
    }
   ],
   "source": [
    "#boosting fo naiveBayesModel\n",
    "start = timeit.default_timer()\n",
    "adbBayes = AdaBoostClassifier(naiveBayesModel, n_estimators = 500, learning_rate = 1.0)\n",
    "adbBayes.fit(X_train, y_train)\n",
    "score = adbBayes.score(X_test, y_test)\n",
    "bg_pred = adbBayes.predict(X_test)\n",
    "stop = timeit.default_timer() \n",
    "\n",
    "print('Accuracy of boosting for NaiveBayes: ', score)\n",
    "print('\\nConfusion matrix of boosting for NaiveBayes:\\n ', confusion_matrix(y_test, bg_pred))\n",
    "print(\"\\nClassification report for Gini NaiveBayes: \\n\", classification_report(y_test, bg_pred))\n",
    "print('Runtime for Naive Bayes (Boosting Method): ', stop - start)\n",
    "bayes_accu[3]=score "
   ]
  },
  {
   "cell_type": "code",
   "execution_count": 45,
   "metadata": {},
   "outputs": [
    {
     "name": "stdout",
     "output_type": "stream",
     "text": [
      "Accuracy of boosting for Artficial Neural Network with 1 hidden layer:  0.6769025367156208\n",
      "Runtime for Artficial Neural Network with 2 hidden layer (Boosting Method):  0.1466102730000216\n"
     ]
    }
   ],
   "source": [
    "#boosting for for ANN with 1 hidden layer\n",
    "start = timeit.default_timer()\n",
    "ann1hidden=annOneHiddenLayer.compile(loss='binary_crossentropy', optimizer='adam', metrics=['accuracy'])\n",
    "adbAnnOneHiddenLayer = AdaBoostClassifier(ann1hidden, n_estimators = 10, learning_rate = 1)\n",
    "adbAnnOneHiddenLayer.fit(X_train, y_train)\n",
    "score=adbAnnOneHiddenLayer.score(X_test, y_test)\n",
    "stop = timeit.default_timer()\n",
    "ann1_accu[2]=score\n",
    "print('Accuracy of boosting for Artficial Neural Network with 1 hidden layer: ', score)\n",
    "print('Runtime for Artficial Neural Network with 2 hidden layer (Boosting Method): ', stop - start)"
   ]
  },
  {
   "cell_type": "code",
   "execution_count": 46,
   "metadata": {},
   "outputs": [
    {
     "name": "stdout",
     "output_type": "stream",
     "text": [
      "Accuracy of boosting for Artficial Neural Network with 2 hidden layer:  0.6769025367156208\n",
      "Runtime for Artficial Neural Network with 2 hidden layer (Boosting Method):  0.14107369999999264\n"
     ]
    }
   ],
   "source": [
    "#boosting for for ANN with 2 hidden layer\n",
    "start = timeit.default_timer()\n",
    "ann2hidden=annTwoHiddenLayer.compile(loss='binary_crossentropy', optimizer='adam', metrics=['accuracy'])\n",
    "adbAnnTwoHiddenLayer = AdaBoostClassifier(ann2hidden, n_estimators = 10, learning_rate = 1)\n",
    "adbAnnTwoHiddenLayer.fit(X_train, y_train)\n",
    "score=adbAnnTwoHiddenLayer.score(X_test, y_test)\n",
    "stop = timeit.default_timer()\n",
    "ann2_accu[2]=score\n",
    "print('Accuracy of boosting for Artficial Neural Network with 2 hidden layer: ', score)\n",
    "print('Runtime for Artficial Neural Network with 2 hidden layer (Boosting Method): ', stop - start)"
   ]
  },
  {
   "cell_type": "code",
   "execution_count": 47,
   "metadata": {},
   "outputs": [
    {
     "name": "stdout",
     "output_type": "stream",
     "text": [
      "Accuracy of boosting for Support Vector Machine 0.7403204272363151\n",
      "Runtime for SVM (Boosting Method):  438.054911858\n"
     ]
    }
   ],
   "source": [
    "#boosting for SVM\n",
    "start = timeit.default_timer()\n",
    "adbSVM=AdaBoostClassifier(algorithm='SAMME.R',base_estimator=SVC(gamma = 'scale', probability=True,random_state=1),learning_rate = 1 ,n_estimators=10)\n",
    "adbSVM.fit(X_train, y_train)\n",
    "y_predict = adbSVM.predict(X_test)\n",
    "score=accuracy_score(y_test,y_predict)\n",
    "\n",
    "print ('Accuracy of boosting for Support Vector Machine',score)\n",
    "stop = timeit.default_timer()\n",
    "print('Runtime for SVM (Boosting Method): ', stop - start)\n",
    "svm_accu[2]=score"
   ]
  },
  {
   "cell_type": "markdown",
   "metadata": {},
   "source": [
    "# Bar Graph of Classifiers"
   ]
  },
  {
   "cell_type": "code",
   "execution_count": 48,
   "metadata": {},
   "outputs": [
    {
     "data": {
      "image/png": "[encoded data removed]",
      "text/plain": [
       "<Figure size 432x288 with 1 Axes>"
      ]
     },
     "metadata": {
      "needs_background": "light"
     },
     "output_type": "display_data"
    }
   ],
   "source": [
    "x = ['Gain', 'Gini', 'Bayes', 'ANN1', 'ANN2', 'SVM']\n",
    "x_pos = [i for i, _ in enumerate(x)]\n",
    "\n",
    "pyplot.barh(x_pos, classifier_base_accuracy)\n",
    "pyplot.ylabel(\"Classifiers\")\n",
    "pyplot.xlabel(\"Accuracy\")\n",
    "pyplot.title(\"Accuracy of different classifiers\")\n",
    "\n",
    "pyplot.yticks(x_pos, x)\n",
    "\n",
    "pyplot.show()"
   ]
  },
  {
   "cell_type": "code",
   "execution_count": 49,
   "metadata": {},
   "outputs": [
    {
     "data": {
      "image/png": "[encoded data removed]",
      "text/plain": [
       "<Figure size 432x288 with 1 Axes>"
      ]
     },
     "metadata": {
      "needs_background": "light"
     },
     "output_type": "display_data"
    }
   ],
   "source": [
    "#Gain\n",
    "x=['Holdout','Bagging','Boosting']\n",
    "x_pos = [i for i, _ in enumerate(x)]\n",
    "\n",
    "pyplot.barh(x_pos, gain_accu)\n",
    "pyplot.ylabel(\"Method\")\n",
    "pyplot.xlabel(\"Accuracy\")\n",
    "pyplot.title(\"Accuracy of Gain Index for different methods\")\n",
    "\n",
    "pyplot.yticks(x_pos, x)\n",
    "\n",
    "pyplot.show()"
   ]
  },
  {
   "cell_type": "code",
   "execution_count": 50,
   "metadata": {},
   "outputs": [
    {
     "data": {
      "image/png": "[encoded data removed]",
      "text/plain": [
       "<Figure size 432x288 with 1 Axes>"
      ]
     },
     "metadata": {
      "needs_background": "light"
     },
     "output_type": "display_data"
    }
   ],
   "source": [
    "#Gini\n",
    "x=['Holdout','Bagging','Boosting']\n",
    "x_pos = [i for i, _ in enumerate(x)]\n",
    "\n",
    "pyplot.barh(x_pos, gini_accu)\n",
    "pyplot.ylabel(\"Method\")\n",
    "pyplot.xlabel(\"Accuracy\")\n",
    "pyplot.title(\"Accuracy of Gini Index for different methods\")\n",
    "\n",
    "pyplot.yticks(x_pos, x)\n",
    "\n",
    "pyplot.show()"
   ]
  },
  {
   "cell_type": "code",
   "execution_count": 51,
   "metadata": {},
   "outputs": [
    {
     "data": {
      "image/png": "[encoded data removed]",
      "text/plain": [
       "<Figure size 432x288 with 1 Axes>"
      ]
     },
     "metadata": {
      "needs_background": "light"
     },
     "output_type": "display_data"
    }
   ],
   "source": [
    "#Bayes\n",
    "x=['Holdout','Cross Validation','Bagging','Boosting']\n",
    "x_pos = [i for i, _ in enumerate(x)]\n",
    "\n",
    "pyplot.barh(x_pos, bayes_accu)\n",
    "pyplot.ylabel(\"Method\")\n",
    "pyplot.xlabel(\"Accuracy\")\n",
    "pyplot.title(\"Accuracy of Navie Bayes for different methods\")\n",
    "\n",
    "pyplot.yticks(x_pos, x)\n",
    "\n",
    "pyplot.show()"
   ]
  },
  {
   "cell_type": "code",
   "execution_count": 52,
   "metadata": {},
   "outputs": [
    {
     "data": {
      "image/png": "[encoded data removed]",
      "text/plain": [
       "<Figure size 432x288 with 1 Axes>"
      ]
     },
     "metadata": {
      "needs_background": "light"
     },
     "output_type": "display_data"
    }
   ],
   "source": [
    "#ANN1\n",
    "x=['Holdout','Bagging','Boosting']\n",
    "x_pos = [i for i, _ in enumerate(x)]\n",
    "\n",
    "pyplot.barh(x_pos,ann1_accu)\n",
    "pyplot.ylabel(\"Method\")\n",
    "pyplot.xlabel(\"Accuracy\")\n",
    "pyplot.title(\"Accuracy of Artificial Neural Network with 1 hidden layer for different methods\")\n",
    "\n",
    "pyplot.yticks(x_pos, x)\n",
    "\n",
    "pyplot.show()"
   ]
  },
  {
   "cell_type": "code",
   "execution_count": 53,
   "metadata": {},
   "outputs": [
    {
     "data": {
      "image/png": "[encoded data removed]",
      "text/plain": [
       "<Figure size 432x288 with 1 Axes>"
      ]
     },
     "metadata": {
      "needs_background": "light"
     },
     "output_type": "display_data"
    }
   ],
   "source": [
    "#ANN2\n",
    "x=['Holdout','Bagging','Boosting']\n",
    "x_pos = [i for i, _ in enumerate(x)]\n",
    "\n",
    "pyplot.barh(x_pos, ann2_accu)\n",
    "pyplot.ylabel(\"Method\")\n",
    "pyplot.xlabel(\"Accuracy\")\n",
    "pyplot.title(\"Accuracy of Artificial Neural Network with 2 hidden layer for different methods\")\n",
    "\n",
    "pyplot.yticks(x_pos, x)\n",
    "\n",
    "pyplot.show()"
   ]
  },
  {
   "cell_type": "code",
   "execution_count": 54,
   "metadata": {},
   "outputs": [
    {
     "data": {
      "image/png": "[encoded data removed]",
      "text/plain": [
       "<Figure size 432x288 with 1 Axes>"
      ]
     },
     "metadata": {
      "needs_background": "light"
     },
     "output_type": "display_data"
    }
   ],
   "source": [
    "#SVM\n",
    "x=['Holdout','Bagging','Boosting']\n",
    "x_pos = [i for i, _ in enumerate(x)]\n",
    "\n",
    "pyplot.barh(x_pos, svm_accu)\n",
    "pyplot.ylabel(\"Method\")\n",
    "pyplot.xlabel(\"Accuracy\")\n",
    "pyplot.title(\"Accuracy of Support Vector Machine for different methods\")\n",
    "\n",
    "pyplot.yticks(x_pos, x)\n",
    "\n",
    "pyplot.show()"
   ]
  }
 ],
 "metadata": {
  "kernelspec": {
   "display_name": "Python 3",
   "language": "python",
   "name": "python3"
  },
  "language_info": {
   "codemirror_mode": {
    "name": "ipython",
    "version": 3
   },
   "file_extension": ".py",
   "mimetype": "text/x-python",
   "name": "python",
   "nbconvert_exporter": "python",
   "pygments_lexer": "ipython3",
   "version": "3.7.4"
  }
 },
 "nbformat": 4,
 "nbformat_minor": 2
}
